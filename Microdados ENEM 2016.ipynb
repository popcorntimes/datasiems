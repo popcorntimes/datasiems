{
 "cells": [
  {
   "cell_type": "raw",
   "id": "31c7fada-f403-4815-b65d-8a2b2b8923b7",
   "metadata": {},
   "source": [
    "Microdados ENEM 2016"
   ]
  },
  {
   "cell_type": "code",
   "execution_count": 1,
   "id": "e3597411-8937-4d5e-8a0f-7cf234107ffd",
   "metadata": {},
   "outputs": [],
   "source": [
    "%matplotlib notebook\n",
    "import pandas as pd\n",
    "import numpy as np\n",
    "import matplotlib.pyplot as plt \n",
    "from matplotlib import colors \n",
    "from matplotlib.ticker import PercentFormatter \n",
    "import seaborn as sns"
   ]
  },
  {
   "cell_type": "raw",
   "id": "eacc7c62-c53a-4fa6-a008-6b8f7e5c23e4",
   "metadata": {},
   "source": [
    "Para melhor uso de recursos computacionais, realizamos uma etapa de pré-processamento. Nessa etapa, convertemos o arquivo CSV para Parquet, um tipo de arquivo mais adequado para lidar com grandes volumes de dados em ciência de dados. Com isso, conseguimos reduzir o tamanho do arquivo e o  tempo de leitura e escrita."
   ]
  },
  {
   "cell_type": "code",
   "execution_count": 2,
   "id": "c1e6e28a-658d-47eb-94e4-426ca6edfc01",
   "metadata": {},
   "outputs": [],
   "source": [
    "df = pd.read_parquet(\"microdados_enem_2016_reduced.parquet\", engine=\"fastparquet\")"
   ]
  },
  {
   "cell_type": "raw",
   "id": "c2f5a0bf-5cf2-4042-95b2-5a95a6216ed2",
   "metadata": {},
   "source": [
    "● Tabulação da variável de Situação de conclusão do Ensino Médio antes dos filtros (TP_ST_CONCLUSAO), com as legendas de cada valor numérico."
   ]
  },
  {
   "cell_type": "code",
   "execution_count": 3,
   "id": "1a5113e7-297c-481f-be85-85d94f22865f",
   "metadata": {},
   "outputs": [
    {
     "data": {
      "text/html": [
       "<div>\n",
       "<style scoped>\n",
       "    .dataframe tbody tr th:only-of-type {\n",
       "        vertical-align: middle;\n",
       "    }\n",
       "\n",
       "    .dataframe tbody tr th {\n",
       "        vertical-align: top;\n",
       "    }\n",
       "\n",
       "    .dataframe thead th {\n",
       "        text-align: right;\n",
       "    }\n",
       "</style>\n",
       "<table border=\"1\" class=\"dataframe\">\n",
       "  <thead>\n",
       "    <tr style=\"text-align: right;\">\n",
       "      <th></th>\n",
       "      <th>Descrição</th>\n",
       "      <th>Quantidade</th>\n",
       "    </tr>\n",
       "  </thead>\n",
       "  <tbody>\n",
       "    <tr>\n",
       "      <th>0</th>\n",
       "      <td>Já concluí o Ensino Médio</td>\n",
       "      <td>4928251</td>\n",
       "    </tr>\n",
       "    <tr>\n",
       "      <th>1</th>\n",
       "      <td>Estou cursando e concluirei o Ensino Médio em ...</td>\n",
       "      <td>1882278</td>\n",
       "    </tr>\n",
       "    <tr>\n",
       "      <th>2</th>\n",
       "      <td>Estou cursando e concluirei o Ensino Médio apó...</td>\n",
       "      <td>1344085</td>\n",
       "    </tr>\n",
       "    <tr>\n",
       "      <th>3</th>\n",
       "      <td>Não concluí e não estou cursando o Ensino Médio</td>\n",
       "      <td>472753</td>\n",
       "    </tr>\n",
       "  </tbody>\n",
       "</table>\n",
       "</div>"
      ],
      "text/plain": [
       "                                           Descrição  Quantidade\n",
       "0                          Já concluí o Ensino Médio     4928251\n",
       "1  Estou cursando e concluirei o Ensino Médio em ...     1882278\n",
       "2  Estou cursando e concluirei o Ensino Médio apó...     1344085\n",
       "3    Não concluí e não estou cursando o Ensino Médio      472753"
      ]
     },
     "metadata": {},
     "output_type": "display_data"
    }
   ],
   "source": [
    "sit_labels = [\"Já concluí o Ensino Médio\", \n",
    "              \"Estou cursando e concluirei o Ensino Médio em 2016\", \n",
    "              \"Estou cursando e concluirei o Ensino Médio após 2016\", \n",
    "              \"Não concluí e não estou cursando o Ensino Médio\"]\n",
    "df_sit = pd.DataFrame({\"Descrição\": sit_labels, \"Quantidade\": df[\"TP_ST_CONCLUSAO\"].value_counts().values})\n",
    "display(df_sit)"
   ]
  },
  {
   "cell_type": "raw",
   "id": "874d0eba-07dd-4977-a2e4-7dc7a5019432",
   "metadata": {},
   "source": [
    "● Tabulação cruzada da variável TP_ST_CONCLUSAO e da resposta no questionário socioeconômica da Q046 Você já concluiu ou está concluindo o Ensino Médio?"
   ]
  },
  {
   "cell_type": "code",
   "execution_count": 4,
   "id": "a6df0243-efd8-4bc9-9a22-00397a710caf",
   "metadata": {},
   "outputs": [
    {
     "data": {
      "text/html": [
       "<div>\n",
       "<style scoped>\n",
       "    .dataframe tbody tr th:only-of-type {\n",
       "        vertical-align: middle;\n",
       "    }\n",
       "\n",
       "    .dataframe tbody tr th {\n",
       "        vertical-align: top;\n",
       "    }\n",
       "\n",
       "    .dataframe thead th {\n",
       "        text-align: right;\n",
       "    }\n",
       "</style>\n",
       "<table border=\"1\" class=\"dataframe\">\n",
       "  <thead>\n",
       "    <tr style=\"text-align: right;\">\n",
       "      <th></th>\n",
       "      <th>Descrição</th>\n",
       "      <th>TP_ST_CONCLUSAO</th>\n",
       "      <th>Q046</th>\n",
       "    </tr>\n",
       "  </thead>\n",
       "  <tbody>\n",
       "    <tr>\n",
       "      <th>0</th>\n",
       "      <td>Já concluí o Ensino Médio</td>\n",
       "      <td>4928251</td>\n",
       "      <td>4947935</td>\n",
       "    </tr>\n",
       "    <tr>\n",
       "      <th>1</th>\n",
       "      <td>Estou cursando e concluirei o Ensino Médio em ...</td>\n",
       "      <td>1882278</td>\n",
       "      <td>1872570</td>\n",
       "    </tr>\n",
       "    <tr>\n",
       "      <th>2</th>\n",
       "      <td>Estou cursando e concluirei o Ensino Médio apó...</td>\n",
       "      <td>1344085</td>\n",
       "      <td>1331073</td>\n",
       "    </tr>\n",
       "    <tr>\n",
       "      <th>3</th>\n",
       "      <td>Não concluí e não estou cursando o Ensino Médio</td>\n",
       "      <td>472753</td>\n",
       "      <td>475785</td>\n",
       "    </tr>\n",
       "  </tbody>\n",
       "</table>\n",
       "</div>"
      ],
      "text/plain": [
       "                                           Descrição  TP_ST_CONCLUSAO     Q046\n",
       "0                          Já concluí o Ensino Médio          4928251  4947935\n",
       "1  Estou cursando e concluirei o Ensino Médio em ...          1882278  1872570\n",
       "2  Estou cursando e concluirei o Ensino Médio apó...          1344085  1331073\n",
       "3    Não concluí e não estou cursando o Ensino Médio           472753   475785"
      ]
     },
     "metadata": {},
     "output_type": "display_data"
    }
   ],
   "source": [
    "df_sit_q46 = pd.DataFrame({\"Descrição\": sit_labels, \"TP_ST_CONCLUSAO\": df[\"TP_ST_CONCLUSAO\"].value_counts().values,\n",
    "                          \"Q046\": df[\"Q046\"].value_counts().values})\n",
    "display(df_sit_q46)"
   ]
  },
  {
   "cell_type": "raw",
   "id": "4f28074b-f59c-4508-93fb-41a0d39bac33",
   "metadata": {},
   "source": [
    "● Tabulação da variável de ano de conclusão do Ensino Médio (TP_ANO_CONCLUIU), com as legendas de cada valor numérico."
   ]
  },
  {
   "cell_type": "code",
   "execution_count": 5,
   "id": "03115cba-99cf-4197-834d-526cbc54d98e",
   "metadata": {},
   "outputs": [
    {
     "data": {
      "text/html": [
       "<div>\n",
       "<style scoped>\n",
       "    .dataframe tbody tr th:only-of-type {\n",
       "        vertical-align: middle;\n",
       "    }\n",
       "\n",
       "    .dataframe tbody tr th {\n",
       "        vertical-align: top;\n",
       "    }\n",
       "\n",
       "    .dataframe thead th {\n",
       "        text-align: right;\n",
       "    }\n",
       "</style>\n",
       "<table border=\"1\" class=\"dataframe\">\n",
       "  <thead>\n",
       "    <tr style=\"text-align: right;\">\n",
       "      <th></th>\n",
       "      <th>Descrição</th>\n",
       "      <th>Quantidade</th>\n",
       "    </tr>\n",
       "  </thead>\n",
       "  <tbody>\n",
       "    <tr>\n",
       "      <th>0</th>\n",
       "      <td>Não informado</td>\n",
       "      <td>3699116</td>\n",
       "    </tr>\n",
       "    <tr>\n",
       "      <th>1</th>\n",
       "      <td>2015</td>\n",
       "      <td>966842</td>\n",
       "    </tr>\n",
       "    <tr>\n",
       "      <th>2</th>\n",
       "      <td>2014</td>\n",
       "      <td>699987</td>\n",
       "    </tr>\n",
       "    <tr>\n",
       "      <th>3</th>\n",
       "      <td>2013</td>\n",
       "      <td>527310</td>\n",
       "    </tr>\n",
       "    <tr>\n",
       "      <th>4</th>\n",
       "      <td>2012</td>\n",
       "      <td>416454</td>\n",
       "    </tr>\n",
       "    <tr>\n",
       "      <th>5</th>\n",
       "      <td>2011</td>\n",
       "      <td>317364</td>\n",
       "    </tr>\n",
       "    <tr>\n",
       "      <th>6</th>\n",
       "      <td>2010</td>\n",
       "      <td>294214</td>\n",
       "    </tr>\n",
       "    <tr>\n",
       "      <th>7</th>\n",
       "      <td>2009</td>\n",
       "      <td>244461</td>\n",
       "    </tr>\n",
       "    <tr>\n",
       "      <th>8</th>\n",
       "      <td>2008</td>\n",
       "      <td>199619</td>\n",
       "    </tr>\n",
       "    <tr>\n",
       "      <th>9</th>\n",
       "      <td>2007</td>\n",
       "      <td>178091</td>\n",
       "    </tr>\n",
       "    <tr>\n",
       "      <th>10</th>\n",
       "      <td>Anterior a 2007</td>\n",
       "      <td>1083909</td>\n",
       "    </tr>\n",
       "  </tbody>\n",
       "</table>\n",
       "</div>"
      ],
      "text/plain": [
       "          Descrição  Quantidade\n",
       "0     Não informado     3699116\n",
       "1              2015      966842\n",
       "2              2014      699987\n",
       "3              2013      527310\n",
       "4              2012      416454\n",
       "5              2011      317364\n",
       "6              2010      294214\n",
       "7              2009      244461\n",
       "8              2008      199619\n",
       "9              2007      178091\n",
       "10  Anterior a 2007     1083909"
      ]
     },
     "metadata": {},
     "output_type": "display_data"
    }
   ],
   "source": [
    "ano_labels = [\"Não informado\", \"2015\", \"2014\", \"2013\", \"2012\", \"2011\", \"2010\", \"2009\", \"2008\", \"2007\", \"Anterior a 2007\"]\n",
    "ano_sit = pd.DataFrame({\"Descrição\": ano_labels, \"Quantidade\": df[\"TP_ANO_CONCLUIU\"].value_counts().sort_index().values})\n",
    "display(ano_sit)"
   ]
  },
  {
   "cell_type": "raw",
   "id": "a1cda746-8030-49f2-982d-8ab4a4e95c14",
   "metadata": {},
   "source": [
    "● Tabulação da variável de tipo de ensino (TP_ENSINO), com as legendas de cada valor numérico."
   ]
  },
  {
   "cell_type": "code",
   "execution_count": 6,
   "id": "a04b34d2-a0ee-4a78-a55b-08e217294ccc",
   "metadata": {},
   "outputs": [
    {
     "data": {
      "text/html": [
       "<div>\n",
       "<style scoped>\n",
       "    .dataframe tbody tr th:only-of-type {\n",
       "        vertical-align: middle;\n",
       "    }\n",
       "\n",
       "    .dataframe tbody tr th {\n",
       "        vertical-align: top;\n",
       "    }\n",
       "\n",
       "    .dataframe thead th {\n",
       "        text-align: right;\n",
       "    }\n",
       "</style>\n",
       "<table border=\"1\" class=\"dataframe\">\n",
       "  <thead>\n",
       "    <tr style=\"text-align: right;\">\n",
       "      <th></th>\n",
       "      <th>Descrição</th>\n",
       "      <th>Quantidade</th>\n",
       "    </tr>\n",
       "  </thead>\n",
       "  <tbody>\n",
       "    <tr>\n",
       "      <th>0</th>\n",
       "      <td>Ensino Regular</td>\n",
       "      <td>1652485</td>\n",
       "    </tr>\n",
       "    <tr>\n",
       "      <th>1</th>\n",
       "      <td>Educação Especial - Modalidade Substitutiva</td>\n",
       "      <td>10295</td>\n",
       "    </tr>\n",
       "    <tr>\n",
       "      <th>2</th>\n",
       "      <td>Educação de Jovens e Adultos</td>\n",
       "      <td>218532</td>\n",
       "    </tr>\n",
       "  </tbody>\n",
       "</table>\n",
       "</div>"
      ],
      "text/plain": [
       "                                     Descrição  Quantidade\n",
       "0                               Ensino Regular     1652485\n",
       "1  Educação Especial - Modalidade Substitutiva       10295\n",
       "2                 Educação de Jovens e Adultos      218532"
      ]
     },
     "metadata": {},
     "output_type": "display_data"
    }
   ],
   "source": [
    "ensino_labels = [\"Ensino Regular\", \"Educação Especial - Modalidade Substitutiva\", \"Educação de Jovens e Adultos\"]\n",
    "ensino_sit = pd.DataFrame({\"Descrição\": ensino_labels, \"Quantidade\": df[\"TP_ENSINO\"].value_counts().sort_index().values})\n",
    "display(ensino_sit)"
   ]
  },
  {
   "cell_type": "raw",
   "id": "183c8373-4f13-4997-a2c9-10298e430e27",
   "metadata": {},
   "source": [
    "● Conferir o formato da variável CO_ESCOLA."
   ]
  },
  {
   "cell_type": "code",
   "execution_count": 7,
   "id": "afcf66a5-e224-4d9e-a977-c33246d485c9",
   "metadata": {},
   "outputs": [],
   "source": [
    "len_co_escola = df[\"CO_ESCOLA\"].dropna().str.len().values"
   ]
  },
  {
   "cell_type": "code",
   "execution_count": 8,
   "id": "d9bc6f55-17d7-4bfc-912e-08d522facf91",
   "metadata": {},
   "outputs": [
    {
     "name": "stdout",
     "output_type": "stream",
     "text": [
      "Tamanho médio de CO_ESCOLA:  8.0\n"
     ]
    }
   ],
   "source": [
    "print(\"Tamanho médio de CO_ESCOLA: \", np.average(len_co_escola))"
   ]
  },
  {
   "cell_type": "code",
   "execution_count": 9,
   "id": "af951f31-ec58-4d53-8f0f-f3b9a7d22cae",
   "metadata": {},
   "outputs": [],
   "source": [
    "v_total = len(df)"
   ]
  },
  {
   "cell_type": "raw",
   "id": "6ed29599-7c22-4e09-b3de-4b0bc852e0ee",
   "metadata": {},
   "source": [
    "● Excluir estudantes que não possuam informação de gênero (valores ausentes na variável TP_SEXO)"
   ]
  },
  {
   "cell_type": "code",
   "execution_count": 10,
   "id": "84de0271-631d-4903-9d0d-f58c5146f67f",
   "metadata": {},
   "outputs": [],
   "source": [
    "#Sem valor nulo na coluna\n",
    "df.drop(df.loc[df['TP_SEXO'].isnull()].index, inplace=True)\n",
    "v_f1 = v_total"
   ]
  },
  {
   "cell_type": "raw",
   "id": "4e90af37-5a0b-4462-95ec-370f85d3eed3",
   "metadata": {},
   "source": [
    "● Manter na base de dados apenas os alunos que já concluíram o ensino médio ou que irão concluir em 2016 (1 ou 2)"
   ]
  },
  {
   "cell_type": "code",
   "execution_count": 11,
   "id": "db1e6542-3e95-4cdc-b288-58ac9a53dda6",
   "metadata": {},
   "outputs": [],
   "source": [
    "df.drop(df.loc[df['TP_ST_CONCLUSAO']==3].index, inplace=True)\n",
    "df.drop(df.loc[df['TP_ST_CONCLUSAO']==4].index, inplace=True)\n",
    "v_f2 = len(df)"
   ]
  },
  {
   "cell_type": "raw",
   "id": "f27dc328-8bd9-4eba-96f6-21e31d8abdc1",
   "metadata": {},
   "source": [
    "● Excluir estudantes que tenham concluído antes de 2007 (pois não teremos informação do ano específico)"
   ]
  },
  {
   "cell_type": "code",
   "execution_count": 12,
   "id": "dbf54692-8d70-40ff-be7b-47b158a61265",
   "metadata": {},
   "outputs": [],
   "source": [
    "#df.drop(df.loc[df['TP_ANO_CONCLUIU']==0].index, inplace=True)\n",
    "df.drop(df.loc[df['TP_ANO_CONCLUIU']==10].index, inplace=True)\n",
    "v_f3 = len(df)"
   ]
  },
  {
   "cell_type": "raw",
   "id": "c2d588c3-c314-414c-a7dc-97f0b67cd33c",
   "metadata": {},
   "source": [
    "● Excluir estudantes que realizaram Ensino Médio no exterior (TP_ESCOLA)"
   ]
  },
  {
   "cell_type": "code",
   "execution_count": 13,
   "id": "abc683b0-7f5f-4444-a16d-b0603bca85bf",
   "metadata": {},
   "outputs": [],
   "source": [
    "df.drop(df.loc[df['TP_ESCOLA']==4].index, inplace=True)\n",
    "v_f4 = len(df)"
   ]
  },
  {
   "cell_type": "raw",
   "id": "c8d9aee0-0b9d-4676-ba11-223f15980390",
   "metadata": {},
   "source": [
    "● Manter apenas estudantes que concluíram ou concluirão o Ensino Médio no Ensino regular (TP_ENSINO)"
   ]
  },
  {
   "cell_type": "code",
   "execution_count": 14,
   "id": "50b26d89-dce4-4c3e-b4b9-a1e47de43198",
   "metadata": {},
   "outputs": [],
   "source": [
    "df.drop(df.loc[df['TP_ENSINO']==2].index, inplace=True)\n",
    "df.drop(df.loc[df['TP_ENSINO']==3].index, inplace=True)\n",
    "v_f5 = len(df)"
   ]
  },
  {
   "cell_type": "raw",
   "id": "31b8e239-28b8-4abc-b80c-80800162a6c0",
   "metadata": {},
   "source": [
    "● Excluir alunos que estão fazendo a prova como treineiros (IN_TREINEIRO) (Pela definição de treineiro, aqui não deve excluir ninguém adicional)"
   ]
  },
  {
   "cell_type": "code",
   "execution_count": 15,
   "id": "409af7f5-b557-4fcf-9813-915c5d30af3f",
   "metadata": {},
   "outputs": [],
   "source": [
    "df.drop(df.loc[df['IN_TREINEIRO']==1].index, inplace=True)\n",
    "v_f6 = len(df)"
   ]
  },
  {
   "cell_type": "raw",
   "id": "879d03df-0c4b-4969-add3-bbdae8b1958b",
   "metadata": {},
   "source": [
    "● Excluir alunos que não possuem informação da escola de Ensino Médio (informação ausente de CO_ESCOLA)"
   ]
  },
  {
   "cell_type": "code",
   "execution_count": 16,
   "id": "eba2e9f7-7e23-4f3a-9e1b-4935ae3500a5",
   "metadata": {},
   "outputs": [],
   "source": [
    "df.drop(df.loc[df['CO_ESCOLA'].isnull()].index, inplace=True)\n",
    "v_f7 = len(df)"
   ]
  },
  {
   "cell_type": "raw",
   "id": "3fc726fe-e889-4c33-94f8-6a14266e4139",
   "metadata": {},
   "source": [
    "● Excluir alunos que possuem informações ausentes nas notas, pois usaremos essas variáveis (valores ausentes nas variáveis NU_NOTA_CN, NU_NOTA_CH, NU_NOTA_LC ou NU_NOTA_MT)"
   ]
  },
  {
   "cell_type": "code",
   "execution_count": 17,
   "id": "8b288e11-a7f2-4029-9211-799e82619f92",
   "metadata": {},
   "outputs": [],
   "source": [
    "df.drop(df.loc[df['NU_NOTA_CN'].isnull()].index, inplace=True)\n",
    "df.drop(df.loc[df['NU_NOTA_CH'].isnull()].index, inplace=True)\n",
    "df.drop(df.loc[df['NU_NOTA_LC'].isnull()].index, inplace=True)\n",
    "df.drop(df.loc[df['NU_NOTA_MT'].isnull()].index, inplace=True)\n",
    "v_f8 = len(df)"
   ]
  },
  {
   "cell_type": "raw",
   "id": "b74db546-4429-4f64-b270-2b55171e0d99",
   "metadata": {},
   "source": [
    "● Tabulação de observações na base original e quantas observações vamos excluindo em cada um dos filtros/restrições realizadas na base (quantidade e percentual das observações excluídos)"
   ]
  },
  {
   "cell_type": "code",
   "execution_count": 18,
   "id": "84d30140-0a2f-47f1-bb42-44c3253d1333",
   "metadata": {},
   "outputs": [],
   "source": [
    "f_qte = [v_total, v_f1, v_f2, v_f3, v_f4, v_f5, v_f6, v_f7, v_f8]\n",
    "f_perc = [v_total/v_total, v_f1/v_total, v_f2/v_total, v_f3/v_total, v_f4/v_total, v_f5/v_total, v_f6/v_total, v_f7/v_total, v_f8/v_total]"
   ]
  },
  {
   "cell_type": "code",
   "execution_count": 19,
   "id": "3d607edc-3570-4014-9a80-53d3f1998e10",
   "metadata": {},
   "outputs": [],
   "source": [
    "row_labels = [\"Sem filtro\", \"Filtro 1\", \"Filtro 2\", \"Filtro 3\", \"Filtro 4\", \"Filtro 5\", \"Filtro 6\", \"Filtro 7\", \"Filtro 8\"]"
   ]
  },
  {
   "cell_type": "code",
   "execution_count": 20,
   "id": "3d87fa15-220a-417d-8284-0e9c239c4cc8",
   "metadata": {},
   "outputs": [],
   "source": [
    "df_filtros = pd.DataFrame({\"Quantidade\": f_qte,\n",
    "                \"Percentual\": f_perc})"
   ]
  },
  {
   "cell_type": "code",
   "execution_count": 21,
   "id": "fc06cc02-8f78-4fb0-805f-729c975fdce0",
   "metadata": {},
   "outputs": [
    {
     "data": {
      "text/html": [
       "<style type=\"text/css\">\n",
       "</style>\n",
       "<table id=\"T_8413f\">\n",
       "  <thead>\n",
       "    <tr>\n",
       "      <th class=\"blank level0\" >&nbsp;</th>\n",
       "      <th id=\"T_8413f_level0_col0\" class=\"col_heading level0 col0\" >Quantidade</th>\n",
       "      <th id=\"T_8413f_level0_col1\" class=\"col_heading level0 col1\" >Percentual</th>\n",
       "    </tr>\n",
       "  </thead>\n",
       "  <tbody>\n",
       "    <tr>\n",
       "      <th id=\"T_8413f_level0_row0\" class=\"row_heading level0 row0\" >Sem filtro</th>\n",
       "      <td id=\"T_8413f_row0_col0\" class=\"data row0 col0\" >8627367</td>\n",
       "      <td id=\"T_8413f_row0_col1\" class=\"data row0 col1\" >100.00%</td>\n",
       "    </tr>\n",
       "    <tr>\n",
       "      <th id=\"T_8413f_level0_row1\" class=\"row_heading level0 row1\" >Filtro 1</th>\n",
       "      <td id=\"T_8413f_row1_col0\" class=\"data row1 col0\" >8627367</td>\n",
       "      <td id=\"T_8413f_row1_col1\" class=\"data row1 col1\" >100.00%</td>\n",
       "    </tr>\n",
       "    <tr>\n",
       "      <th id=\"T_8413f_level0_row2\" class=\"row_heading level0 row2\" >Filtro 2</th>\n",
       "      <td id=\"T_8413f_row2_col0\" class=\"data row2 col0\" >6810529</td>\n",
       "      <td id=\"T_8413f_row2_col1\" class=\"data row2 col1\" >78.94%</td>\n",
       "    </tr>\n",
       "    <tr>\n",
       "      <th id=\"T_8413f_level0_row3\" class=\"row_heading level0 row3\" >Filtro 3</th>\n",
       "      <td id=\"T_8413f_row3_col0\" class=\"data row3 col0\" >5726620</td>\n",
       "      <td id=\"T_8413f_row3_col1\" class=\"data row3 col1\" >66.38%</td>\n",
       "    </tr>\n",
       "    <tr>\n",
       "      <th id=\"T_8413f_level0_row4\" class=\"row_heading level0 row4\" >Filtro 4</th>\n",
       "      <td id=\"T_8413f_row4_col0\" class=\"data row4 col0\" >5725635</td>\n",
       "      <td id=\"T_8413f_row4_col1\" class=\"data row4 col1\" >66.37%</td>\n",
       "    </tr>\n",
       "    <tr>\n",
       "      <th id=\"T_8413f_level0_row5\" class=\"row_heading level0 row5\" >Filtro 5</th>\n",
       "      <td id=\"T_8413f_row5_col0\" class=\"data row5 col0\" >5496816</td>\n",
       "      <td id=\"T_8413f_row5_col1\" class=\"data row5 col1\" >63.71%</td>\n",
       "    </tr>\n",
       "    <tr>\n",
       "      <th id=\"T_8413f_level0_row6\" class=\"row_heading level0 row6\" >Filtro 6</th>\n",
       "      <td id=\"T_8413f_row6_col0\" class=\"data row6 col0\" >5496816</td>\n",
       "      <td id=\"T_8413f_row6_col1\" class=\"data row6 col1\" >63.71%</td>\n",
       "    </tr>\n",
       "    <tr>\n",
       "      <th id=\"T_8413f_level0_row7\" class=\"row_heading level0 row7\" >Filtro 7</th>\n",
       "      <td id=\"T_8413f_row7_col0\" class=\"data row7 col0\" >1652471</td>\n",
       "      <td id=\"T_8413f_row7_col1\" class=\"data row7 col1\" >19.15%</td>\n",
       "    </tr>\n",
       "    <tr>\n",
       "      <th id=\"T_8413f_level0_row8\" class=\"row_heading level0 row8\" >Filtro 8</th>\n",
       "      <td id=\"T_8413f_row8_col0\" class=\"data row8 col0\" >1388044</td>\n",
       "      <td id=\"T_8413f_row8_col1\" class=\"data row8 col1\" >16.09%</td>\n",
       "    </tr>\n",
       "  </tbody>\n",
       "</table>\n"
      ],
      "text/plain": [
       "<pandas.io.formats.style.Styler at 0x1a5e8af4250>"
      ]
     },
     "metadata": {},
     "output_type": "display_data"
    }
   ],
   "source": [
    "df_filtros.index = row_labels\n",
    "df_filtros_formatted = df_filtros.style.format({'Percentual': \"{:,.2%}\"})\n",
    "display(df_filtros_formatted)"
   ]
  },
  {
   "cell_type": "raw",
   "id": "2c806d92-b11a-42fe-9dbe-4fcd2236b1c1",
   "metadata": {},
   "source": [
    "● Criar um identificador único que indique observações que possuam exatamente a mesma nota em todas as disciplinas (Ciências da Natureza, Ciências Humanas, Linguagens e Códigos, Matemática, Redação)"
   ]
  },
  {
   "cell_type": "code",
   "execution_count": 22,
   "id": "2abec702-39cc-48f9-827e-5231a214da36",
   "metadata": {},
   "outputs": [],
   "source": [
    "cols = ['NU_NOTA_CH', 'NU_NOTA_CN', 'NU_NOTA_LC', 'NU_NOTA_MT', 'NU_NOTA_REDACAO']\n",
    "df['NOTAS_STR'] = df[cols].apply(lambda row: '_'.join(row.values.astype(str)), axis=1)"
   ]
  },
  {
   "cell_type": "code",
   "execution_count": 23,
   "id": "604612a8-bb7e-4f2a-bf1f-ddb76abdb439",
   "metadata": {},
   "outputs": [],
   "source": [
    "df['NOTAS_STR'] = df['NOTAS_STR']"
   ]
  },
  {
   "cell_type": "raw",
   "id": "93069dec-0d8a-4e65-b238-f5cb0ca9a0fd",
   "metadata": {},
   "source": [
    "● Para cada uma das notas, criar uma variável que indica quantas pessoas possuem o mesmo valor de nota (=1 se for única; 2 se 2 pessoas tiverem exatamente a mesma nota; etc….)"
   ]
  },
  {
   "cell_type": "code",
   "execution_count": 24,
   "id": "5343eda4-c6fe-4a8a-8ede-f9fbb1d5537f",
   "metadata": {},
   "outputs": [
    {
     "data": {
      "text/html": [
       "<div>\n",
       "<style scoped>\n",
       "    .dataframe tbody tr th:only-of-type {\n",
       "        vertical-align: middle;\n",
       "    }\n",
       "\n",
       "    .dataframe tbody tr th {\n",
       "        vertical-align: top;\n",
       "    }\n",
       "\n",
       "    .dataframe thead th {\n",
       "        text-align: right;\n",
       "    }\n",
       "</style>\n",
       "<table border=\"1\" class=\"dataframe\">\n",
       "  <thead>\n",
       "    <tr style=\"text-align: right;\">\n",
       "      <th></th>\n",
       "      <th>String concatenada</th>\n",
       "      <th>Quantidade</th>\n",
       "    </tr>\n",
       "  </thead>\n",
       "  <tbody>\n",
       "    <tr>\n",
       "      <th>0</th>\n",
       "      <td>544.2_446.1_500.5_599.3_580.0</td>\n",
       "      <td>1</td>\n",
       "    </tr>\n",
       "    <tr>\n",
       "      <th>1</th>\n",
       "      <td>583.6_462.0_512.1_502.3_560.0</td>\n",
       "      <td>1</td>\n",
       "    </tr>\n",
       "    <tr>\n",
       "      <th>2</th>\n",
       "      <td>600.9_602.1_594.1_596.4_800.0</td>\n",
       "      <td>1</td>\n",
       "    </tr>\n",
       "    <tr>\n",
       "      <th>3</th>\n",
       "      <td>639.6_551.2_595.6_754.4_600.0</td>\n",
       "      <td>1</td>\n",
       "    </tr>\n",
       "    <tr>\n",
       "      <th>4</th>\n",
       "      <td>578.8_433.9_568.5_439.4_540.0</td>\n",
       "      <td>1</td>\n",
       "    </tr>\n",
       "    <tr>\n",
       "      <th>...</th>\n",
       "      <td>...</td>\n",
       "      <td>...</td>\n",
       "    </tr>\n",
       "    <tr>\n",
       "      <th>1388039</th>\n",
       "      <td>370.5_402.7_396.5_443.1_360.0</td>\n",
       "      <td>1</td>\n",
       "    </tr>\n",
       "    <tr>\n",
       "      <th>1388040</th>\n",
       "      <td>494.2_422.2_420.4_465.8_620.0</td>\n",
       "      <td>1</td>\n",
       "    </tr>\n",
       "    <tr>\n",
       "      <th>1388041</th>\n",
       "      <td>458.3_428.0_450.9_387.5_560.0</td>\n",
       "      <td>1</td>\n",
       "    </tr>\n",
       "    <tr>\n",
       "      <th>1388042</th>\n",
       "      <td>476.9_392.6_437.9_435.5_380.0</td>\n",
       "      <td>1</td>\n",
       "    </tr>\n",
       "    <tr>\n",
       "      <th>1388043</th>\n",
       "      <td>545.2_495.6_529.3_397.4_740.0</td>\n",
       "      <td>1</td>\n",
       "    </tr>\n",
       "  </tbody>\n",
       "</table>\n",
       "<p>1388044 rows × 2 columns</p>\n",
       "</div>"
      ],
      "text/plain": [
       "                    String concatenada  Quantidade\n",
       "0        544.2_446.1_500.5_599.3_580.0           1\n",
       "1        583.6_462.0_512.1_502.3_560.0           1\n",
       "2        600.9_602.1_594.1_596.4_800.0           1\n",
       "3        639.6_551.2_595.6_754.4_600.0           1\n",
       "4        578.8_433.9_568.5_439.4_540.0           1\n",
       "...                                ...         ...\n",
       "1388039  370.5_402.7_396.5_443.1_360.0           1\n",
       "1388040  494.2_422.2_420.4_465.8_620.0           1\n",
       "1388041  458.3_428.0_450.9_387.5_560.0           1\n",
       "1388042  476.9_392.6_437.9_435.5_380.0           1\n",
       "1388043  545.2_495.6_529.3_397.4_740.0           1\n",
       "\n",
       "[1388044 rows x 2 columns]"
      ]
     },
     "metadata": {},
     "output_type": "display_data"
    }
   ],
   "source": [
    "notasconcat_value_counts = df['NOTAS_STR'].value_counts(dropna=True, sort=True)\n",
    "df_notasconcat_val_counts = pd.DataFrame(notasconcat_value_counts)\n",
    "df_notasconcat_value_counts_reset = df_notasconcat_val_counts.reset_index()\n",
    "df_notasconcat_value_counts_reset.columns = ['String concatenada', 'Quantidade']\n",
    "display(df_notasconcat_value_counts_reset)"
   ]
  },
  {
   "cell_type": "raw",
   "id": "559e2971-dc4f-414e-9b1e-fdc36421c1e8",
   "metadata": {},
   "source": [
    "● Criar histogramas para cada uma dessas variáveis para entendermos se serão bons identificadores"
   ]
  },
  {
   "cell_type": "code",
   "execution_count": 25,
   "id": "f8ddee64-5cd8-4c28-91f5-d3cd297e5ac1",
   "metadata": {},
   "outputs": [],
   "source": [
    "notas_cn_dict = df['NU_NOTA_CN'].value_counts().to_dict()"
   ]
  },
  {
   "cell_type": "code",
   "execution_count": 26,
   "id": "252c9962-e645-4aad-a381-b0a83df744f8",
   "metadata": {},
   "outputs": [],
   "source": [
    "notas_ch_dict = df['NU_NOTA_CH'].value_counts().to_dict()"
   ]
  },
  {
   "cell_type": "code",
   "execution_count": 27,
   "id": "7b3a28a7-dae5-47e2-93ed-ee4871af062c",
   "metadata": {},
   "outputs": [],
   "source": [
    "notas_lc_dict = df['NU_NOTA_LC'].value_counts().to_dict()"
   ]
  },
  {
   "cell_type": "code",
   "execution_count": 28,
   "id": "1ea08c53-ec03-4bc6-b061-26b393b48cb3",
   "metadata": {},
   "outputs": [],
   "source": [
    "notas_mt_dict = df['NU_NOTA_MT'].value_counts().to_dict()"
   ]
  },
  {
   "cell_type": "code",
   "execution_count": 29,
   "id": "4c6625f3-d9dc-48bf-b912-a54d96bc45f6",
   "metadata": {},
   "outputs": [],
   "source": [
    "notas_red_dict = df['NU_NOTA_REDACAO'].value_counts().to_dict()"
   ]
  },
  {
   "cell_type": "code",
   "execution_count": 30,
   "id": "45a62bc2-fe4b-4070-a148-9ee9859aee77",
   "metadata": {},
   "outputs": [],
   "source": [
    "notas_cn_list = [key for key, val in notas_cn_dict.items() for _ in range(val)]\n",
    "notas_ch_list = [key for key, val in notas_ch_dict.items() for _ in range(val)]\n",
    "notas_lc_list = [key for key, val in notas_lc_dict.items() for _ in range(val)]\n",
    "notas_mt_list = [key for key, val in notas_mt_dict.items() for _ in range(val)]\n",
    "notas_red_list = [key for key, val in notas_red_dict.items() for _ in range(val)]"
   ]
  },
  {
   "cell_type": "code",
   "execution_count": 31,
   "id": "eeb2ef30-0b67-418a-b635-728d9b1eee21",
   "metadata": {},
   "outputs": [],
   "source": [
    "notas_intervalo = [0, 100, 200, 300, 400, 500, 600, 700, 800, 900, 1000]"
   ]
  },
  {
   "cell_type": "raw",
   "id": "e525e01e-0baa-4a03-8316-f63a50b49d98",
   "metadata": {},
   "source": [
    "○ Nota da prova de Ciências da Natureza"
   ]
  },
  {
   "cell_type": "code",
   "execution_count": 32,
   "id": "29e625c3-6c37-45dc-84af-b6f0f1fa85b2",
   "metadata": {},
   "outputs": [
    {
     "data": {
      "image/png": "[encoded data removed]",
      "text/plain": [
       "<Figure size 1400x700 with 1 Axes>"
      ]
     },
     "metadata": {},
     "output_type": "display_data"
    }
   ],
   "source": [
    "%matplotlib inline\n",
    "plt.figure(figsize=(14,7)) # Make it 14x7 inch\n",
    "plt.hist(notas_cn_list, bins=90, facecolor = '#2ab0ff', edgecolor='#169acf', linewidth=0.5)\n",
    "plt.xticks(notas_intervalo, notas_intervalo, rotation ='vertical') \n",
    "plt.title('Notas da prova de Ciências da Natureza') \n",
    "plt.xlabel('Total') \n",
    "plt.ylabel('Notas')\n",
    "#plt.savefig(\"notas_cn.png\")\n",
    "plt.show()\n"
   ]
  },
  {
   "cell_type": "raw",
   "id": "e9b2d172-c051-440f-9eca-b17fe9d53678",
   "metadata": {},
   "source": [
    "○ Nota da prova de Ciências Humanas"
   ]
  },
  {
   "cell_type": "code",
   "execution_count": 33,
   "id": "20f7338e-14b3-44af-93ba-390f43726e74",
   "metadata": {},
   "outputs": [
    {
     "data": {
      "image/png": "[encoded data removed]",
      "text/plain": [
       "<Figure size 1400x700 with 1 Axes>"
      ]
     },
     "metadata": {},
     "output_type": "display_data"
    }
   ],
   "source": [
    "%matplotlib inline\n",
    "plt.figure(figsize=(14,7)) # Make it 14x7 inch\n",
    "plt.hist(notas_ch_list, bins=90, facecolor = '#2ab0ff', edgecolor='#169acf', linewidth=0.5)\n",
    "plt.xticks(notas_intervalo, notas_intervalo, rotation ='vertical') \n",
    "plt.title('Notas da prova de Ciências Humanas') \n",
    "plt.xlabel('Total') \n",
    "plt.ylabel('Notas')\n",
    "#plt.savefig(\"notas_ch.png\")\n",
    "plt.show()"
   ]
  },
  {
   "cell_type": "raw",
   "id": "ca6e70bf-5a0c-4ea8-8879-93116eb82472",
   "metadata": {},
   "source": [
    "○ Nota da prova de Linguagens e Códigos"
   ]
  },
  {
   "cell_type": "code",
   "execution_count": 34,
   "id": "0a17cbd3-f372-4a88-8912-eeb0ad2a8dc7",
   "metadata": {},
   "outputs": [
    {
     "data": {
      "image/png": "[encoded data removed]",
      "text/plain": [
       "<Figure size 1400x700 with 1 Axes>"
      ]
     },
     "metadata": {},
     "output_type": "display_data"
    }
   ],
   "source": [
    "%matplotlib inline\n",
    "plt.figure(figsize=(14,7)) # Make it 14x7 inch\n",
    "plt.hist(notas_lc_list, bins=90, facecolor = '#2ab0ff', edgecolor='#169acf', linewidth=0.5)\n",
    "plt.xticks(notas_intervalo, notas_intervalo, rotation ='vertical') \n",
    "plt.title('Notas da prova de Linguagens e Códigos') \n",
    "plt.xlabel('Total') \n",
    "plt.ylabel('Notas')\n",
    "#plt.savefig(\"notas_lc.png\")\n",
    "plt.show()\n"
   ]
  },
  {
   "cell_type": "raw",
   "id": "d0c4a098-f951-455b-8b96-a68b001495fa",
   "metadata": {},
   "source": [
    "○ Nota da prova de Matemática"
   ]
  },
  {
   "cell_type": "code",
   "execution_count": 35,
   "id": "6e093d95-5e28-4c1b-9f7b-944d68d13168",
   "metadata": {},
   "outputs": [
    {
     "data": {
      "image/png": "[encoded data removed]",
      "text/plain": [
       "<Figure size 1400x700 with 1 Axes>"
      ]
     },
     "metadata": {},
     "output_type": "display_data"
    }
   ],
   "source": [
    "%matplotlib inline\n",
    "plt.figure(figsize=(14,7)) # Make it 14x7 inch\n",
    "plt.hist(notas_mt_list, bins=90, facecolor = '#2ab0ff', edgecolor='#169acf', linewidth=0.5)\n",
    "plt.xticks(notas_intervalo, notas_intervalo, rotation ='vertical') \n",
    "plt.title('Notas da prova de Matemática') \n",
    "plt.xlabel('Total') \n",
    "plt.ylabel('Notas') \n",
    "#plt.savefig(\"notas_mt.png\")\n",
    "plt.show()\n"
   ]
  },
  {
   "cell_type": "raw",
   "id": "9f018fa4-954d-405b-8872-edc96b38db47",
   "metadata": {},
   "source": [
    "○ Nota da prova de redação"
   ]
  },
  {
   "cell_type": "code",
   "execution_count": 36,
   "id": "f412374b-f2cb-49d7-bd03-afcad4e8edee",
   "metadata": {},
   "outputs": [
    {
     "data": {
      "image/png": "[encoded data removed]",
      "text/plain": [
       "<Figure size 1400x700 with 1 Axes>"
      ]
     },
     "metadata": {},
     "output_type": "display_data"
    }
   ],
   "source": [
    "%matplotlib inline\n",
    "plt.figure(figsize=(14,7)) # Make it 14x7 inch\n",
    "plt.hist(notas_red_list, bins=90, facecolor = '#2ab0ff', edgecolor='#169acf', linewidth=0.5)\n",
    "plt.xticks(notas_intervalo, notas_intervalo, rotation ='vertical') \n",
    "plt.title('Notas da prova de Redação') \n",
    "plt.xlabel('Total') \n",
    "plt.ylabel('Notas') \n",
    "#plt.savefig(\"notas_red.png\")\n",
    "plt.show()\n"
   ]
  },
  {
   "cell_type": "raw",
   "id": "9622eae1-8593-44a2-a45d-3bb0de538a91",
   "metadata": {},
   "source": [
    "● Gráfico mostrando a distribuição da UF de residência dos alunos da nossa amostra (percentual em cada estado)"
   ]
  },
  {
   "cell_type": "code",
   "execution_count": 37,
   "id": "e5ce94e9-379b-428d-9e35-88361fe8e8d8",
   "metadata": {},
   "outputs": [
    {
     "data": {
      "text/html": [
       "<div>\n",
       "<style scoped>\n",
       "    .dataframe tbody tr th:only-of-type {\n",
       "        vertical-align: middle;\n",
       "    }\n",
       "\n",
       "    .dataframe tbody tr th {\n",
       "        vertical-align: top;\n",
       "    }\n",
       "\n",
       "    .dataframe thead th {\n",
       "        text-align: right;\n",
       "    }\n",
       "</style>\n",
       "<table border=\"1\" class=\"dataframe\">\n",
       "  <thead>\n",
       "    <tr style=\"text-align: right;\">\n",
       "      <th></th>\n",
       "      <th>UF</th>\n",
       "      <th>Quantidade</th>\n",
       "      <th>Percentual</th>\n",
       "    </tr>\n",
       "  </thead>\n",
       "  <tbody>\n",
       "    <tr>\n",
       "      <th>0</th>\n",
       "      <td>SP</td>\n",
       "      <td>303127</td>\n",
       "      <td>21.838429</td>\n",
       "    </tr>\n",
       "    <tr>\n",
       "      <th>1</th>\n",
       "      <td>MG</td>\n",
       "      <td>131502</td>\n",
       "      <td>9.473907</td>\n",
       "    </tr>\n",
       "    <tr>\n",
       "      <th>2</th>\n",
       "      <td>RJ</td>\n",
       "      <td>94992</td>\n",
       "      <td>6.843587</td>\n",
       "    </tr>\n",
       "    <tr>\n",
       "      <th>3</th>\n",
       "      <td>CE</td>\n",
       "      <td>88077</td>\n",
       "      <td>6.345404</td>\n",
       "    </tr>\n",
       "    <tr>\n",
       "      <th>4</th>\n",
       "      <td>BA</td>\n",
       "      <td>79438</td>\n",
       "      <td>5.723017</td>\n",
       "    </tr>\n",
       "    <tr>\n",
       "      <th>5</th>\n",
       "      <td>PR</td>\n",
       "      <td>77315</td>\n",
       "      <td>5.570068</td>\n",
       "    </tr>\n",
       "    <tr>\n",
       "      <th>6</th>\n",
       "      <td>RS</td>\n",
       "      <td>65511</td>\n",
       "      <td>4.719663</td>\n",
       "    </tr>\n",
       "    <tr>\n",
       "      <th>7</th>\n",
       "      <td>PE</td>\n",
       "      <td>63760</td>\n",
       "      <td>4.593514</td>\n",
       "    </tr>\n",
       "    <tr>\n",
       "      <th>8</th>\n",
       "      <td>PA</td>\n",
       "      <td>57917</td>\n",
       "      <td>4.172562</td>\n",
       "    </tr>\n",
       "    <tr>\n",
       "      <th>9</th>\n",
       "      <td>SC</td>\n",
       "      <td>51234</td>\n",
       "      <td>3.691093</td>\n",
       "    </tr>\n",
       "    <tr>\n",
       "      <th>10</th>\n",
       "      <td>GO</td>\n",
       "      <td>49493</td>\n",
       "      <td>3.565665</td>\n",
       "    </tr>\n",
       "    <tr>\n",
       "      <th>11</th>\n",
       "      <td>MA</td>\n",
       "      <td>47581</td>\n",
       "      <td>3.427917</td>\n",
       "    </tr>\n",
       "    <tr>\n",
       "      <th>12</th>\n",
       "      <td>AM</td>\n",
       "      <td>29547</td>\n",
       "      <td>2.128679</td>\n",
       "    </tr>\n",
       "    <tr>\n",
       "      <th>13</th>\n",
       "      <td>ES</td>\n",
       "      <td>28709</td>\n",
       "      <td>2.068306</td>\n",
       "    </tr>\n",
       "    <tr>\n",
       "      <th>14</th>\n",
       "      <td>PI</td>\n",
       "      <td>27439</td>\n",
       "      <td>1.976811</td>\n",
       "    </tr>\n",
       "    <tr>\n",
       "      <th>15</th>\n",
       "      <td>PB</td>\n",
       "      <td>26369</td>\n",
       "      <td>1.899724</td>\n",
       "    </tr>\n",
       "    <tr>\n",
       "      <th>16</th>\n",
       "      <td>DF</td>\n",
       "      <td>25092</td>\n",
       "      <td>1.807724</td>\n",
       "    </tr>\n",
       "    <tr>\n",
       "      <th>17</th>\n",
       "      <td>MT</td>\n",
       "      <td>23669</td>\n",
       "      <td>1.705205</td>\n",
       "    </tr>\n",
       "    <tr>\n",
       "      <th>18</th>\n",
       "      <td>RN</td>\n",
       "      <td>21490</td>\n",
       "      <td>1.548222</td>\n",
       "    </tr>\n",
       "    <tr>\n",
       "      <th>19</th>\n",
       "      <td>AL</td>\n",
       "      <td>19691</td>\n",
       "      <td>1.418615</td>\n",
       "    </tr>\n",
       "    <tr>\n",
       "      <th>20</th>\n",
       "      <td>MS</td>\n",
       "      <td>18574</td>\n",
       "      <td>1.338142</td>\n",
       "    </tr>\n",
       "    <tr>\n",
       "      <th>21</th>\n",
       "      <td>SE</td>\n",
       "      <td>15702</td>\n",
       "      <td>1.131232</td>\n",
       "    </tr>\n",
       "    <tr>\n",
       "      <th>22</th>\n",
       "      <td>TO</td>\n",
       "      <td>11763</td>\n",
       "      <td>0.847452</td>\n",
       "    </tr>\n",
       "    <tr>\n",
       "      <th>23</th>\n",
       "      <td>RO</td>\n",
       "      <td>11627</td>\n",
       "      <td>0.837654</td>\n",
       "    </tr>\n",
       "    <tr>\n",
       "      <th>24</th>\n",
       "      <td>AP</td>\n",
       "      <td>7781</td>\n",
       "      <td>0.560573</td>\n",
       "    </tr>\n",
       "    <tr>\n",
       "      <th>25</th>\n",
       "      <td>AC</td>\n",
       "      <td>7096</td>\n",
       "      <td>0.511223</td>\n",
       "    </tr>\n",
       "    <tr>\n",
       "      <th>26</th>\n",
       "      <td>RR</td>\n",
       "      <td>3548</td>\n",
       "      <td>0.255611</td>\n",
       "    </tr>\n",
       "  </tbody>\n",
       "</table>\n",
       "</div>"
      ],
      "text/plain": [
       "    UF  Quantidade  Percentual\n",
       "0   SP      303127   21.838429\n",
       "1   MG      131502    9.473907\n",
       "2   RJ       94992    6.843587\n",
       "3   CE       88077    6.345404\n",
       "4   BA       79438    5.723017\n",
       "5   PR       77315    5.570068\n",
       "6   RS       65511    4.719663\n",
       "7   PE       63760    4.593514\n",
       "8   PA       57917    4.172562\n",
       "9   SC       51234    3.691093\n",
       "10  GO       49493    3.565665\n",
       "11  MA       47581    3.427917\n",
       "12  AM       29547    2.128679\n",
       "13  ES       28709    2.068306\n",
       "14  PI       27439    1.976811\n",
       "15  PB       26369    1.899724\n",
       "16  DF       25092    1.807724\n",
       "17  MT       23669    1.705205\n",
       "18  RN       21490    1.548222\n",
       "19  AL       19691    1.418615\n",
       "20  MS       18574    1.338142\n",
       "21  SE       15702    1.131232\n",
       "22  TO       11763    0.847452\n",
       "23  RO       11627    0.837654\n",
       "24  AP        7781    0.560573\n",
       "25  AC        7096    0.511223\n",
       "26  RR        3548    0.255611"
      ]
     },
     "metadata": {},
     "output_type": "display_data"
    }
   ],
   "source": [
    "df_uf = pd.DataFrame({\"UF\": df['SG_UF_RESIDENCIA'].value_counts(ascending = False).index,\n",
    "                      \"Quantidade\": df['SG_UF_RESIDENCIA'].value_counts(ascending = False).values,\n",
    "                     \"Percentual\": df['SG_UF_RESIDENCIA'].value_counts(normalize=True, ascending = False).values*100})\n",
    "display(df_uf)"
   ]
  },
  {
   "cell_type": "code",
   "execution_count": 38,
   "id": "5c9de4ad-e874-4d06-a100-8c56d04b953e",
   "metadata": {},
   "outputs": [],
   "source": [
    "df_uf[\"Percentual\"] = df_uf[\"Percentual\"].round(2)\n",
    "df_uf[\"Percentual\"] = df_uf[\"Percentual\"].astype(str) + '%'"
   ]
  },
  {
   "cell_type": "code",
   "execution_count": 39,
   "id": "58345298-8ea5-4780-bfb4-ee4006b511e5",
   "metadata": {},
   "outputs": [
    {
     "data": {
      "image/png": "[encoded data removed]",
      "text/plain": [
       "<Figure size 1000x500 with 1 Axes>"
      ]
     },
     "metadata": {},
     "output_type": "display_data"
    }
   ],
   "source": [
    "%matplotlib inline\n",
    "plt.figure(figsize=(10,5))\n",
    "ax = sns.barplot(data = df_uf, y = \"UF\", x = \"Quantidade\", alpha=1, width=0.70, dodge=False)\n",
    "plt.title('Distribuição da UF de residência dos participantes')\n",
    "plt.ylabel('UF', fontsize=12)\n",
    "plt.xlabel('Quantidade', fontsize=12)\n",
    "for c in ax.containers:\n",
    "    labels = df_uf[\"Percentual\"]\n",
    "    ax.bar_label(c, labels, padding=2, fontsize=7)\n",
    "sns.despine()\n",
    "plt.savefig(\"dist_uf.png\")\n",
    "plt.show()"
   ]
  },
  {
   "cell_type": "raw",
   "id": "76235958-6e0d-43dd-9fa4-176154b33716",
   "metadata": {},
   "source": [
    "● Tabela com estatísticas descritivas da base de dados (média, desvio-padrão, e quantidade de observações), comparando homens e mulheres da amostra\n",
    "○ Idade"
   ]
  },
  {
   "cell_type": "code",
   "execution_count": 40,
   "id": "709dd712-2a11-4b34-abe7-d8e1430cc0a6",
   "metadata": {},
   "outputs": [],
   "source": [
    "idade = df[[\"NU_IDADE\", \"TP_SEXO\"]]\n",
    "idade = idade.dropna()\n",
    "idade_h = idade[idade['TP_SEXO'] == \"M\"]\n",
    "idade_m = idade[idade['TP_SEXO'] == \"F\"]\n",
    "idade_h = idade_h['NU_IDADE']\n",
    "idade_m = idade_m['NU_IDADE']"
   ]
  },
  {
   "cell_type": "code",
   "execution_count": 41,
   "id": "6f7d8078-bb12-4261-a3ad-ae7560f2e86d",
   "metadata": {},
   "outputs": [],
   "source": [
    "idade_m_obs = idade_m.value_counts(ascending = False).sort_index()\n",
    "idade_m = idade_m.to_numpy()\n",
    "idade_m_media = np.average(idade_m)\n",
    "idade_m_dp = np.std(idade_m)"
   ]
  },
  {
   "cell_type": "code",
   "execution_count": 42,
   "id": "9e20a2a4-f130-4623-a7dc-a1a2c07b0908",
   "metadata": {},
   "outputs": [],
   "source": [
    "idade_h_obs = idade_h.value_counts(ascending = False).sort_index()\n",
    "idade_h = idade_h.to_numpy()\n",
    "idade_h_media = np.average(idade_h)\n",
    "idade_h_dp = np.std(idade_h)"
   ]
  },
  {
   "cell_type": "code",
   "execution_count": 43,
   "id": "9abfcea0-bf20-4597-80ec-ad27cc39e6bd",
   "metadata": {},
   "outputs": [
    {
     "data": {
      "text/html": [
       "<div>\n",
       "<style scoped>\n",
       "    .dataframe tbody tr th:only-of-type {\n",
       "        vertical-align: middle;\n",
       "    }\n",
       "\n",
       "    .dataframe tbody tr th {\n",
       "        vertical-align: top;\n",
       "    }\n",
       "\n",
       "    .dataframe thead th {\n",
       "        text-align: right;\n",
       "    }\n",
       "</style>\n",
       "<table border=\"1\" class=\"dataframe\">\n",
       "  <thead>\n",
       "    <tr style=\"text-align: right;\">\n",
       "      <th></th>\n",
       "      <th>Média</th>\n",
       "      <th>Desvio padrão</th>\n",
       "    </tr>\n",
       "  </thead>\n",
       "  <tbody>\n",
       "    <tr>\n",
       "      <th>Feminino</th>\n",
       "      <td>17.694373</td>\n",
       "      <td>1.960211</td>\n",
       "    </tr>\n",
       "    <tr>\n",
       "      <th>Masculino</th>\n",
       "      <td>17.765918</td>\n",
       "      <td>1.640337</td>\n",
       "    </tr>\n",
       "  </tbody>\n",
       "</table>\n",
       "</div>"
      ],
      "text/plain": [
       "               Média  Desvio padrão\n",
       "Feminino   17.694373       1.960211\n",
       "Masculino  17.765918       1.640337"
      ]
     },
     "metadata": {},
     "output_type": "display_data"
    }
   ],
   "source": [
    "df_idade = pd.DataFrame({\"Média\": [idade_m_media, idade_h_media],\n",
    "                \"Desvio padrão\": [idade_m_dp, idade_h_dp]})\n",
    "df_idade.index = [\"Feminino\", \"Masculino\"]\n",
    "display(df_idade)"
   ]
  },
  {
   "cell_type": "code",
   "execution_count": 44,
   "id": "5eb0f607-0e6d-47e9-acbc-8e98c6ca5842",
   "metadata": {},
   "outputs": [
    {
     "data": {
      "text/html": [
       "<div>\n",
       "<style scoped>\n",
       "    .dataframe tbody tr th:only-of-type {\n",
       "        vertical-align: middle;\n",
       "    }\n",
       "\n",
       "    .dataframe tbody tr th {\n",
       "        vertical-align: top;\n",
       "    }\n",
       "\n",
       "    .dataframe thead th {\n",
       "        text-align: right;\n",
       "    }\n",
       "</style>\n",
       "<table border=\"1\" class=\"dataframe\">\n",
       "  <thead>\n",
       "    <tr style=\"text-align: right;\">\n",
       "      <th></th>\n",
       "      <th>Idade (Fem.)</th>\n",
       "      <th>Quantidade de observações</th>\n",
       "    </tr>\n",
       "  </thead>\n",
       "  <tbody>\n",
       "    <tr>\n",
       "      <th>0</th>\n",
       "      <td>10</td>\n",
       "      <td>1</td>\n",
       "    </tr>\n",
       "    <tr>\n",
       "      <th>1</th>\n",
       "      <td>11</td>\n",
       "      <td>2</td>\n",
       "    </tr>\n",
       "    <tr>\n",
       "      <th>2</th>\n",
       "      <td>12</td>\n",
       "      <td>1</td>\n",
       "    </tr>\n",
       "    <tr>\n",
       "      <th>3</th>\n",
       "      <td>13</td>\n",
       "      <td>10</td>\n",
       "    </tr>\n",
       "    <tr>\n",
       "      <th>4</th>\n",
       "      <td>14</td>\n",
       "      <td>72</td>\n",
       "    </tr>\n",
       "    <tr>\n",
       "      <th>...</th>\n",
       "      <td>...</td>\n",
       "      <td>...</td>\n",
       "    </tr>\n",
       "    <tr>\n",
       "      <th>56</th>\n",
       "      <td>66</td>\n",
       "      <td>6</td>\n",
       "    </tr>\n",
       "    <tr>\n",
       "      <th>57</th>\n",
       "      <td>68</td>\n",
       "      <td>1</td>\n",
       "    </tr>\n",
       "    <tr>\n",
       "      <th>58</th>\n",
       "      <td>70</td>\n",
       "      <td>1</td>\n",
       "    </tr>\n",
       "    <tr>\n",
       "      <th>59</th>\n",
       "      <td>72</td>\n",
       "      <td>1</td>\n",
       "    </tr>\n",
       "    <tr>\n",
       "      <th>60</th>\n",
       "      <td>75</td>\n",
       "      <td>1</td>\n",
       "    </tr>\n",
       "  </tbody>\n",
       "</table>\n",
       "<p>61 rows × 2 columns</p>\n",
       "</div>"
      ],
      "text/plain": [
       "    Idade (Fem.)  Quantidade de observações\n",
       "0             10                          1\n",
       "1             11                          2\n",
       "2             12                          1\n",
       "3             13                         10\n",
       "4             14                         72\n",
       "..           ...                        ...\n",
       "56            66                          6\n",
       "57            68                          1\n",
       "58            70                          1\n",
       "59            72                          1\n",
       "60            75                          1\n",
       "\n",
       "[61 rows x 2 columns]"
      ]
     },
     "metadata": {},
     "output_type": "display_data"
    }
   ],
   "source": [
    "df_m_idade = pd.DataFrame({\"Idade (Fem.)\": idade_m_obs.index,\n",
    "                \"Quantidade de observações\": idade_m_obs.values})\n",
    "display(df_m_idade)"
   ]
  },
  {
   "cell_type": "code",
   "execution_count": 45,
   "id": "3a2a6996-a648-47f4-bd61-71e631462fd7",
   "metadata": {},
   "outputs": [
    {
     "data": {
      "text/html": [
       "<div>\n",
       "<style scoped>\n",
       "    .dataframe tbody tr th:only-of-type {\n",
       "        vertical-align: middle;\n",
       "    }\n",
       "\n",
       "    .dataframe tbody tr th {\n",
       "        vertical-align: top;\n",
       "    }\n",
       "\n",
       "    .dataframe thead th {\n",
       "        text-align: right;\n",
       "    }\n",
       "</style>\n",
       "<table border=\"1\" class=\"dataframe\">\n",
       "  <thead>\n",
       "    <tr style=\"text-align: right;\">\n",
       "      <th></th>\n",
       "      <th>Idade (Masc.)</th>\n",
       "      <th>Quantidade de observações</th>\n",
       "    </tr>\n",
       "  </thead>\n",
       "  <tbody>\n",
       "    <tr>\n",
       "      <th>0</th>\n",
       "      <td>13</td>\n",
       "      <td>3</td>\n",
       "    </tr>\n",
       "    <tr>\n",
       "      <th>1</th>\n",
       "      <td>14</td>\n",
       "      <td>47</td>\n",
       "    </tr>\n",
       "    <tr>\n",
       "      <th>2</th>\n",
       "      <td>15</td>\n",
       "      <td>603</td>\n",
       "    </tr>\n",
       "    <tr>\n",
       "      <th>3</th>\n",
       "      <td>16</td>\n",
       "      <td>21303</td>\n",
       "    </tr>\n",
       "    <tr>\n",
       "      <th>4</th>\n",
       "      <td>17</td>\n",
       "      <td>287349</td>\n",
       "    </tr>\n",
       "    <tr>\n",
       "      <th>5</th>\n",
       "      <td>18</td>\n",
       "      <td>181008</td>\n",
       "    </tr>\n",
       "    <tr>\n",
       "      <th>6</th>\n",
       "      <td>19</td>\n",
       "      <td>56438</td>\n",
       "    </tr>\n",
       "    <tr>\n",
       "      <th>7</th>\n",
       "      <td>20</td>\n",
       "      <td>19405</td>\n",
       "    </tr>\n",
       "    <tr>\n",
       "      <th>8</th>\n",
       "      <td>21</td>\n",
       "      <td>7164</td>\n",
       "    </tr>\n",
       "    <tr>\n",
       "      <th>9</th>\n",
       "      <td>22</td>\n",
       "      <td>3246</td>\n",
       "    </tr>\n",
       "    <tr>\n",
       "      <th>10</th>\n",
       "      <td>23</td>\n",
       "      <td>1721</td>\n",
       "    </tr>\n",
       "    <tr>\n",
       "      <th>11</th>\n",
       "      <td>24</td>\n",
       "      <td>1060</td>\n",
       "    </tr>\n",
       "    <tr>\n",
       "      <th>12</th>\n",
       "      <td>25</td>\n",
       "      <td>675</td>\n",
       "    </tr>\n",
       "    <tr>\n",
       "      <th>13</th>\n",
       "      <td>26</td>\n",
       "      <td>528</td>\n",
       "    </tr>\n",
       "    <tr>\n",
       "      <th>14</th>\n",
       "      <td>27</td>\n",
       "      <td>355</td>\n",
       "    </tr>\n",
       "    <tr>\n",
       "      <th>15</th>\n",
       "      <td>28</td>\n",
       "      <td>318</td>\n",
       "    </tr>\n",
       "    <tr>\n",
       "      <th>16</th>\n",
       "      <td>29</td>\n",
       "      <td>277</td>\n",
       "    </tr>\n",
       "    <tr>\n",
       "      <th>17</th>\n",
       "      <td>30</td>\n",
       "      <td>175</td>\n",
       "    </tr>\n",
       "    <tr>\n",
       "      <th>18</th>\n",
       "      <td>31</td>\n",
       "      <td>187</td>\n",
       "    </tr>\n",
       "    <tr>\n",
       "      <th>19</th>\n",
       "      <td>32</td>\n",
       "      <td>141</td>\n",
       "    </tr>\n",
       "    <tr>\n",
       "      <th>20</th>\n",
       "      <td>33</td>\n",
       "      <td>123</td>\n",
       "    </tr>\n",
       "    <tr>\n",
       "      <th>21</th>\n",
       "      <td>34</td>\n",
       "      <td>108</td>\n",
       "    </tr>\n",
       "    <tr>\n",
       "      <th>22</th>\n",
       "      <td>35</td>\n",
       "      <td>90</td>\n",
       "    </tr>\n",
       "    <tr>\n",
       "      <th>23</th>\n",
       "      <td>36</td>\n",
       "      <td>85</td>\n",
       "    </tr>\n",
       "    <tr>\n",
       "      <th>24</th>\n",
       "      <td>37</td>\n",
       "      <td>91</td>\n",
       "    </tr>\n",
       "    <tr>\n",
       "      <th>25</th>\n",
       "      <td>38</td>\n",
       "      <td>61</td>\n",
       "    </tr>\n",
       "    <tr>\n",
       "      <th>26</th>\n",
       "      <td>39</td>\n",
       "      <td>56</td>\n",
       "    </tr>\n",
       "    <tr>\n",
       "      <th>27</th>\n",
       "      <td>40</td>\n",
       "      <td>60</td>\n",
       "    </tr>\n",
       "    <tr>\n",
       "      <th>28</th>\n",
       "      <td>41</td>\n",
       "      <td>38</td>\n",
       "    </tr>\n",
       "    <tr>\n",
       "      <th>29</th>\n",
       "      <td>42</td>\n",
       "      <td>54</td>\n",
       "    </tr>\n",
       "    <tr>\n",
       "      <th>30</th>\n",
       "      <td>43</td>\n",
       "      <td>48</td>\n",
       "    </tr>\n",
       "    <tr>\n",
       "      <th>31</th>\n",
       "      <td>44</td>\n",
       "      <td>45</td>\n",
       "    </tr>\n",
       "    <tr>\n",
       "      <th>32</th>\n",
       "      <td>45</td>\n",
       "      <td>41</td>\n",
       "    </tr>\n",
       "    <tr>\n",
       "      <th>33</th>\n",
       "      <td>46</td>\n",
       "      <td>32</td>\n",
       "    </tr>\n",
       "    <tr>\n",
       "      <th>34</th>\n",
       "      <td>47</td>\n",
       "      <td>28</td>\n",
       "    </tr>\n",
       "    <tr>\n",
       "      <th>35</th>\n",
       "      <td>48</td>\n",
       "      <td>20</td>\n",
       "    </tr>\n",
       "    <tr>\n",
       "      <th>36</th>\n",
       "      <td>49</td>\n",
       "      <td>23</td>\n",
       "    </tr>\n",
       "    <tr>\n",
       "      <th>37</th>\n",
       "      <td>50</td>\n",
       "      <td>23</td>\n",
       "    </tr>\n",
       "    <tr>\n",
       "      <th>38</th>\n",
       "      <td>51</td>\n",
       "      <td>26</td>\n",
       "    </tr>\n",
       "    <tr>\n",
       "      <th>39</th>\n",
       "      <td>52</td>\n",
       "      <td>17</td>\n",
       "    </tr>\n",
       "    <tr>\n",
       "      <th>40</th>\n",
       "      <td>53</td>\n",
       "      <td>7</td>\n",
       "    </tr>\n",
       "    <tr>\n",
       "      <th>41</th>\n",
       "      <td>54</td>\n",
       "      <td>6</td>\n",
       "    </tr>\n",
       "    <tr>\n",
       "      <th>42</th>\n",
       "      <td>55</td>\n",
       "      <td>11</td>\n",
       "    </tr>\n",
       "    <tr>\n",
       "      <th>43</th>\n",
       "      <td>56</td>\n",
       "      <td>4</td>\n",
       "    </tr>\n",
       "    <tr>\n",
       "      <th>44</th>\n",
       "      <td>57</td>\n",
       "      <td>7</td>\n",
       "    </tr>\n",
       "    <tr>\n",
       "      <th>45</th>\n",
       "      <td>58</td>\n",
       "      <td>6</td>\n",
       "    </tr>\n",
       "    <tr>\n",
       "      <th>46</th>\n",
       "      <td>59</td>\n",
       "      <td>6</td>\n",
       "    </tr>\n",
       "    <tr>\n",
       "      <th>47</th>\n",
       "      <td>60</td>\n",
       "      <td>6</td>\n",
       "    </tr>\n",
       "    <tr>\n",
       "      <th>48</th>\n",
       "      <td>61</td>\n",
       "      <td>3</td>\n",
       "    </tr>\n",
       "    <tr>\n",
       "      <th>49</th>\n",
       "      <td>62</td>\n",
       "      <td>5</td>\n",
       "    </tr>\n",
       "    <tr>\n",
       "      <th>50</th>\n",
       "      <td>64</td>\n",
       "      <td>1</td>\n",
       "    </tr>\n",
       "    <tr>\n",
       "      <th>51</th>\n",
       "      <td>65</td>\n",
       "      <td>2</td>\n",
       "    </tr>\n",
       "    <tr>\n",
       "      <th>52</th>\n",
       "      <td>66</td>\n",
       "      <td>4</td>\n",
       "    </tr>\n",
       "    <tr>\n",
       "      <th>53</th>\n",
       "      <td>67</td>\n",
       "      <td>1</td>\n",
       "    </tr>\n",
       "    <tr>\n",
       "      <th>54</th>\n",
       "      <td>69</td>\n",
       "      <td>1</td>\n",
       "    </tr>\n",
       "    <tr>\n",
       "      <th>55</th>\n",
       "      <td>71</td>\n",
       "      <td>2</td>\n",
       "    </tr>\n",
       "    <tr>\n",
       "      <th>56</th>\n",
       "      <td>80</td>\n",
       "      <td>1</td>\n",
       "    </tr>\n",
       "  </tbody>\n",
       "</table>\n",
       "</div>"
      ],
      "text/plain": [
       "    Idade (Masc.)  Quantidade de observações\n",
       "0              13                          3\n",
       "1              14                         47\n",
       "2              15                        603\n",
       "3              16                      21303\n",
       "4              17                     287349\n",
       "5              18                     181008\n",
       "6              19                      56438\n",
       "7              20                      19405\n",
       "8              21                       7164\n",
       "9              22                       3246\n",
       "10             23                       1721\n",
       "11             24                       1060\n",
       "12             25                        675\n",
       "13             26                        528\n",
       "14             27                        355\n",
       "15             28                        318\n",
       "16             29                        277\n",
       "17             30                        175\n",
       "18             31                        187\n",
       "19             32                        141\n",
       "20             33                        123\n",
       "21             34                        108\n",
       "22             35                         90\n",
       "23             36                         85\n",
       "24             37                         91\n",
       "25             38                         61\n",
       "26             39                         56\n",
       "27             40                         60\n",
       "28             41                         38\n",
       "29             42                         54\n",
       "30             43                         48\n",
       "31             44                         45\n",
       "32             45                         41\n",
       "33             46                         32\n",
       "34             47                         28\n",
       "35             48                         20\n",
       "36             49                         23\n",
       "37             50                         23\n",
       "38             51                         26\n",
       "39             52                         17\n",
       "40             53                          7\n",
       "41             54                          6\n",
       "42             55                         11\n",
       "43             56                          4\n",
       "44             57                          7\n",
       "45             58                          6\n",
       "46             59                          6\n",
       "47             60                          6\n",
       "48             61                          3\n",
       "49             62                          5\n",
       "50             64                          1\n",
       "51             65                          2\n",
       "52             66                          4\n",
       "53             67                          1\n",
       "54             69                          1\n",
       "55             71                          2\n",
       "56             80                          1"
      ]
     },
     "metadata": {},
     "output_type": "display_data"
    }
   ],
   "source": [
    "df_h_idade = pd.DataFrame({\"Idade (Masc.)\": idade_h_obs.index,\n",
    "                \"Quantidade de observações\": idade_h_obs.values})\n",
    "display(df_h_idade)"
   ]
  },
  {
   "cell_type": "raw",
   "id": "d3286f3b-dd89-4242-9546-7500efd073a6",
   "metadata": {},
   "source": [
    "○ Raça: percentuais de cada raça declarada e sem resposta (não declarado ou sem informação)"
   ]
  },
  {
   "cell_type": "code",
   "execution_count": 46,
   "id": "149426cb-32cf-4beb-afd0-05ae64a93f2a",
   "metadata": {},
   "outputs": [],
   "source": [
    "raca = df[[\"TP_COR_RACA\", \"TP_SEXO\"]]\n",
    "raca = raca.dropna()\n",
    "raca_h = raca[raca['TP_SEXO'] == \"M\"]\n",
    "raca_m = raca[raca['TP_SEXO'] == \"F\"]\n",
    "raca_h = raca_h['TP_COR_RACA']\n",
    "raca_m = raca_m['TP_COR_RACA']"
   ]
  },
  {
   "cell_type": "code",
   "execution_count": 47,
   "id": "bf6a33b1-9cb0-4954-a1e8-f076247dc45c",
   "metadata": {},
   "outputs": [],
   "source": [
    "raca_h_obs = raca_h.value_counts().sort_index()\n",
    "raca_m_obs = raca_m.value_counts().sort_index()"
   ]
  },
  {
   "cell_type": "code",
   "execution_count": 48,
   "id": "9e8d3b46-59c0-4a55-9def-1081fa463c5f",
   "metadata": {},
   "outputs": [],
   "source": [
    "raca_h_decl = 0\n",
    "for x in range (1, 6):\n",
    "    raca_h_decl = raca_h_decl + raca_h_obs[x]\n",
    "raca_h_ndecl = raca_h_obs[0] + raca_h_obs[6]\n",
    "raca_h_total = len(raca_h)"
   ]
  },
  {
   "cell_type": "code",
   "execution_count": 49,
   "id": "21532e7b-6c70-4d14-83e8-f3e57505b059",
   "metadata": {},
   "outputs": [],
   "source": [
    "raca_m_decl = 0\n",
    "for x in range (1, 6):\n",
    "    raca_m_decl = raca_m_decl + raca_m_obs[x]\n",
    "raca_m_ndecl = raca_m_obs[0] + raca_m_obs[6]\n",
    "raca_m_total = len(raca_m)"
   ]
  },
  {
   "cell_type": "code",
   "execution_count": 50,
   "id": "0f611da3-ae11-4412-ac41-f5fcf8932a7b",
   "metadata": {},
   "outputs": [
    {
     "data": {
      "text/html": [
       "<style type=\"text/css\">\n",
       "</style>\n",
       "<table id=\"T_c61e0\">\n",
       "  <thead>\n",
       "    <tr>\n",
       "      <th class=\"blank level0\" >&nbsp;</th>\n",
       "      <th id=\"T_c61e0_level0_col0\" class=\"col_heading level0 col0\" >Perc. feminino</th>\n",
       "      <th id=\"T_c61e0_level0_col1\" class=\"col_heading level0 col1\" >Perc. masculino</th>\n",
       "    </tr>\n",
       "  </thead>\n",
       "  <tbody>\n",
       "    <tr>\n",
       "      <th id=\"T_c61e0_level0_row0\" class=\"row_heading level0 row0\" >Raça declarada</th>\n",
       "      <td id=\"T_c61e0_row0_col0\" class=\"data row0 col0\" >98.56%</td>\n",
       "      <td id=\"T_c61e0_row0_col1\" class=\"data row0 col1\" >98.17%</td>\n",
       "    </tr>\n",
       "    <tr>\n",
       "      <th id=\"T_c61e0_level0_row1\" class=\"row_heading level0 row1\" >Sem resposta</th>\n",
       "      <td id=\"T_c61e0_row1_col0\" class=\"data row1 col0\" >1.44%</td>\n",
       "      <td id=\"T_c61e0_row1_col1\" class=\"data row1 col1\" >1.83%</td>\n",
       "    </tr>\n",
       "  </tbody>\n",
       "</table>\n"
      ],
      "text/plain": [
       "<pandas.io.formats.style.Styler at 0x1a5d16eb510>"
      ]
     },
     "metadata": {},
     "output_type": "display_data"
    }
   ],
   "source": [
    "df_raca = pd.DataFrame({\"Perc. feminino\": [raca_m_decl/raca_m_total, raca_m_ndecl/raca_m_total],\n",
    "                \"Perc. masculino\": [raca_h_decl/raca_h_total, raca_h_ndecl/raca_h_total]})\n",
    "df_raca.index = [\"Raça declarada\", \"Sem resposta\"]\n",
    "df_raca_formatted = df_raca.style.format({'Perc. feminino': \"{:,.2%}\",\n",
    "                                          'Perc. masculino': \"{:,.2%}\"})\n",
    "display(df_raca_formatted)"
   ]
  },
  {
   "cell_type": "raw",
   "id": "f810730d-261d-49fc-85eb-cc13d36542a0",
   "metadata": {},
   "source": [
    "○ Parcela cujo pai tem Ensino Médio completo (categorias E, F, G)"
   ]
  },
  {
   "cell_type": "code",
   "execution_count": 51,
   "id": "d8e437fd-3aa0-4f20-8cb5-ef2b233c8310",
   "metadata": {},
   "outputs": [],
   "source": [
    "pai = df[[\"Q001\", \"TP_SEXO\"]]\n",
    "pai = pai.dropna()\n",
    "pai_h = pai[pai['TP_SEXO'] == \"M\"]\n",
    "pai_m = pai[pai['TP_SEXO'] == \"F\"]\n",
    "pai_h = pai_h['Q001']\n",
    "pai_m = pai_m['Q001']"
   ]
  },
  {
   "cell_type": "code",
   "execution_count": 52,
   "id": "954ad92d-ba17-4034-a4b4-ab97c5dba579",
   "metadata": {},
   "outputs": [],
   "source": [
    "pai_m_total = len(pai_m)\n",
    "pai_m_obs = pai_m.value_counts().sort_index()\n",
    "pai_m_sem_em_total = pai_m_obs[\"A\"] + pai_m_obs[\"B\"] + pai_m_obs[\"C\"] + pai_m_obs[\"D\"] + pai_m_obs[\"H\"]\n",
    "pai_m_em_total = pai_m_obs[\"E\"] + pai_m_obs[\"F\"] + pai_m_obs[\"G\"]"
   ]
  },
  {
   "cell_type": "code",
   "execution_count": 53,
   "id": "52f66bc5-c735-4790-864b-3baa5b683fda",
   "metadata": {},
   "outputs": [],
   "source": [
    "pai_h_total = len(pai_h)\n",
    "pai_h_obs = pai_h.value_counts().sort_index()\n",
    "pai_h_sem_em_total = pai_h_obs[\"A\"] + pai_h_obs[\"B\"] + pai_h_obs[\"C\"] + pai_h_obs[\"D\"] + pai_h_obs[\"H\"]\n",
    "pai_h_em_total = pai_h_obs[\"E\"] + pai_h_obs[\"F\"] + pai_h_obs[\"G\"]"
   ]
  },
  {
   "cell_type": "code",
   "execution_count": 54,
   "id": "548048bf-faf3-433f-8939-861cc582a815",
   "metadata": {},
   "outputs": [
    {
     "data": {
      "text/html": [
       "<style type=\"text/css\">\n",
       "</style>\n",
       "<table id=\"T_0fe25\">\n",
       "  <thead>\n",
       "    <tr>\n",
       "      <th class=\"blank level0\" >&nbsp;</th>\n",
       "      <th id=\"T_0fe25_level0_col0\" class=\"col_heading level0 col0\" >Perc. feminino</th>\n",
       "      <th id=\"T_0fe25_level0_col1\" class=\"col_heading level0 col1\" >Perc. masculino</th>\n",
       "    </tr>\n",
       "  </thead>\n",
       "  <tbody>\n",
       "    <tr>\n",
       "      <th id=\"T_0fe25_level0_row0\" class=\"row_heading level0 row0\" >Sem ensino médio completo</th>\n",
       "      <td id=\"T_0fe25_row0_col0\" class=\"data row0 col0\" >60.99%</td>\n",
       "      <td id=\"T_0fe25_row0_col1\" class=\"data row0 col1\" >55.28%</td>\n",
       "    </tr>\n",
       "    <tr>\n",
       "      <th id=\"T_0fe25_level0_row1\" class=\"row_heading level0 row1\" >Com ensino médio completo</th>\n",
       "      <td id=\"T_0fe25_row1_col0\" class=\"data row1 col0\" >39.01%</td>\n",
       "      <td id=\"T_0fe25_row1_col1\" class=\"data row1 col1\" >44.72%</td>\n",
       "    </tr>\n",
       "  </tbody>\n",
       "</table>\n"
      ],
      "text/plain": [
       "<pandas.io.formats.style.Styler at 0x1a5d2496490>"
      ]
     },
     "metadata": {},
     "output_type": "display_data"
    }
   ],
   "source": [
    "df_pai_em = pd.DataFrame({\"Perc. feminino\": [pai_m_sem_em_total/pai_m_total, pai_m_em_total/pai_m_total],\n",
    "                \"Perc. masculino\": [pai_h_sem_em_total/pai_h_total, pai_h_em_total/pai_h_total]})\n",
    "df_pai_em.index = [\"Sem ensino médio completo\", \"Com ensino médio completo\"]\n",
    "df_pai_formatted = df_pai_em.style.format({'Perc. feminino': \"{:,.2%}\",\n",
    "                                          'Perc. masculino': \"{:,.2%}\"})\n",
    "display(df_pai_formatted)\n"
   ]
  },
  {
   "cell_type": "raw",
   "id": "d813b466-328c-48f0-a577-0c39bcb90e89",
   "metadata": {},
   "source": [
    "○ Parcela cuja mãe tem Ensino Médio completo (categorias E, F, G)"
   ]
  },
  {
   "cell_type": "code",
   "execution_count": 55,
   "id": "22f07ed1-b065-4eae-820e-87740fb78e11",
   "metadata": {},
   "outputs": [],
   "source": [
    "mae = df[[\"Q002\", \"TP_SEXO\"]]\n",
    "mae = mae.dropna()\n",
    "mae_h = mae[mae['TP_SEXO'] == \"M\"]\n",
    "mae_m = mae[mae['TP_SEXO'] == \"F\"]\n",
    "mae_h = mae_h['Q002']\n",
    "mae_m = mae_m['Q002']"
   ]
  },
  {
   "cell_type": "code",
   "execution_count": 56,
   "id": "74ed1e94-69c2-49d6-b182-0f7e91c70aaa",
   "metadata": {},
   "outputs": [],
   "source": [
    "mae_m_total = len(mae_m)\n",
    "mae_m_obs = mae_m.value_counts().sort_index()\n",
    "mae_m_sem_em_total = mae_m_obs[\"A\"] + mae_m_obs[\"B\"] + mae_m_obs[\"C\"] + mae_m_obs[\"D\"] + mae_m_obs[\"H\"]\n",
    "mae_m_em_total = mae_m_obs[\"E\"] + mae_m_obs[\"F\"] + mae_m_obs[\"G\"]"
   ]
  },
  {
   "cell_type": "code",
   "execution_count": 57,
   "id": "4c5ec99d-888c-4f9a-ae45-eea3aef4ae11",
   "metadata": {},
   "outputs": [],
   "source": [
    "mae_h_total = len(mae_h)\n",
    "mae_h_obs = mae_h.value_counts().sort_index()\n",
    "mae_h_sem_em_total = mae_h_obs[\"A\"] + mae_h_obs[\"B\"] + mae_h_obs[\"C\"] + mae_h_obs[\"D\"] + mae_h_obs[\"H\"]\n",
    "mae_h_em_total = mae_h_obs[\"E\"] + mae_h_obs[\"F\"] + mae_h_obs[\"G\"]"
   ]
  },
  {
   "cell_type": "code",
   "execution_count": 58,
   "id": "12a8c92b-ee56-4968-ab86-ec5bd045606d",
   "metadata": {},
   "outputs": [
    {
     "data": {
      "text/html": [
       "<style type=\"text/css\">\n",
       "</style>\n",
       "<table id=\"T_39f6c\">\n",
       "  <thead>\n",
       "    <tr>\n",
       "      <th class=\"blank level0\" >&nbsp;</th>\n",
       "      <th id=\"T_39f6c_level0_col0\" class=\"col_heading level0 col0\" >Perc. feminino</th>\n",
       "      <th id=\"T_39f6c_level0_col1\" class=\"col_heading level0 col1\" >Perc. masculino</th>\n",
       "    </tr>\n",
       "  </thead>\n",
       "  <tbody>\n",
       "    <tr>\n",
       "      <th id=\"T_39f6c_level0_row0\" class=\"row_heading level0 row0\" >Sem ensino médio completo</th>\n",
       "      <td id=\"T_39f6c_row0_col0\" class=\"data row0 col0\" >49.74%</td>\n",
       "      <td id=\"T_39f6c_row0_col1\" class=\"data row0 col1\" >44.31%</td>\n",
       "    </tr>\n",
       "    <tr>\n",
       "      <th id=\"T_39f6c_level0_row1\" class=\"row_heading level0 row1\" >Com ensino médio completo</th>\n",
       "      <td id=\"T_39f6c_row1_col0\" class=\"data row1 col0\" >50.26%</td>\n",
       "      <td id=\"T_39f6c_row1_col1\" class=\"data row1 col1\" >55.69%</td>\n",
       "    </tr>\n",
       "  </tbody>\n",
       "</table>\n"
      ],
      "text/plain": [
       "<pandas.io.formats.style.Styler at 0x1a5d2531290>"
      ]
     },
     "metadata": {},
     "output_type": "display_data"
    }
   ],
   "source": [
    "df_mae_em = pd.DataFrame({\"Perc. feminino\": [mae_m_sem_em_total/mae_m_total, mae_m_em_total/mae_m_total],\n",
    "                \"Perc. masculino\": [mae_h_sem_em_total/mae_h_total, mae_h_em_total/mae_h_total]})\n",
    "df_mae_em.index = [\"Sem ensino médio completo\", \"Com ensino médio completo\"]\n",
    "df_mae_formatted = df_mae_em.style.format({'Perc. feminino': \"{:,.2%}\",\n",
    "                                          'Perc. masculino': \"{:,.2%}\"})\n",
    "display(df_mae_formatted)"
   ]
  },
  {
   "cell_type": "raw",
   "id": "b4ba5370-d667-484f-9be9-b1de0625ab4f",
   "metadata": {},
   "source": [
    "○ Dependência administrativa da escola: parcela de estudantes da amostra em cada uma das dependências administrativas"
   ]
  },
  {
   "cell_type": "code",
   "execution_count": 59,
   "id": "3ea67aea-1c73-4561-b392-e1ebe4703632",
   "metadata": {},
   "outputs": [],
   "source": [
    "dep_adm = df[[\"TP_DEPENDENCIA_ADM_ESC\", \"TP_SEXO\"]]\n",
    "dep_adm = dep_adm.dropna()\n",
    "dep_adm_h = dep_adm[dep_adm['TP_SEXO'] == \"M\"]\n",
    "dep_adm_m = dep_adm[dep_adm['TP_SEXO'] == \"F\"]\n",
    "dep_adm_h = dep_adm_h['TP_DEPENDENCIA_ADM_ESC']\n",
    "dep_adm_m = dep_adm_m['TP_DEPENDENCIA_ADM_ESC']"
   ]
  },
  {
   "cell_type": "code",
   "execution_count": 60,
   "id": "ffa85417-b319-4abb-8bfe-e18495e704be",
   "metadata": {},
   "outputs": [],
   "source": [
    "dep_adm_h_total = len(dep_adm_h)\n",
    "dep_adm_h_obs = dep_adm_h.value_counts().sort_index()\n",
    "dep_fed_h = dep_adm_h_obs[1]\n",
    "dep_est_h = dep_adm_h_obs[2]\n",
    "dep_mun_h = dep_adm_h_obs[3]\n",
    "dep_priv_h = dep_adm_h_obs[4]"
   ]
  },
  {
   "cell_type": "code",
   "execution_count": 61,
   "id": "82ad60de-1157-4357-b330-3be2e37b29db",
   "metadata": {},
   "outputs": [],
   "source": [
    "dep_adm_m_total = len(dep_adm_m)\n",
    "dep_adm_m_obs = dep_adm_m.value_counts().sort_index()\n",
    "dep_fed_m = dep_adm_m_obs[1]\n",
    "dep_est_m = dep_adm_m_obs[2]\n",
    "dep_mun_m = dep_adm_m_obs[3]\n",
    "dep_priv_m = dep_adm_m_obs[4]"
   ]
  },
  {
   "cell_type": "code",
   "execution_count": 62,
   "id": "fa78c3f4-308b-483e-80a2-b6025b719dd3",
   "metadata": {},
   "outputs": [
    {
     "data": {
      "text/html": [
       "<style type=\"text/css\">\n",
       "</style>\n",
       "<table id=\"T_c55e3\">\n",
       "  <thead>\n",
       "    <tr>\n",
       "      <th class=\"blank level0\" >&nbsp;</th>\n",
       "      <th id=\"T_c55e3_level0_col0\" class=\"col_heading level0 col0\" >Perc. feminino</th>\n",
       "      <th id=\"T_c55e3_level0_col1\" class=\"col_heading level0 col1\" >Perc. masculino</th>\n",
       "    </tr>\n",
       "  </thead>\n",
       "  <tbody>\n",
       "    <tr>\n",
       "      <th id=\"T_c55e3_level0_row0\" class=\"row_heading level0 row0\" >Federal</th>\n",
       "      <td id=\"T_c55e3_row0_col0\" class=\"data row0 col0\" >2.21%</td>\n",
       "      <td id=\"T_c55e3_row0_col1\" class=\"data row0 col1\" >2.99%</td>\n",
       "    </tr>\n",
       "    <tr>\n",
       "      <th id=\"T_c55e3_level0_row1\" class=\"row_heading level0 row1\" >Estadual</th>\n",
       "      <td id=\"T_c55e3_row1_col0\" class=\"data row1 col0\" >77.33%</td>\n",
       "      <td id=\"T_c55e3_row1_col1\" class=\"data row1 col1\" >73.80%</td>\n",
       "    </tr>\n",
       "    <tr>\n",
       "      <th id=\"T_c55e3_level0_row2\" class=\"row_heading level0 row2\" >Municipal</th>\n",
       "      <td id=\"T_c55e3_row2_col0\" class=\"data row2 col0\" >0.92%</td>\n",
       "      <td id=\"T_c55e3_row2_col1\" class=\"data row2 col1\" >0.88%</td>\n",
       "    </tr>\n",
       "    <tr>\n",
       "      <th id=\"T_c55e3_level0_row3\" class=\"row_heading level0 row3\" >Privada</th>\n",
       "      <td id=\"T_c55e3_row3_col0\" class=\"data row3 col0\" >19.53%</td>\n",
       "      <td id=\"T_c55e3_row3_col1\" class=\"data row3 col1\" >22.32%</td>\n",
       "    </tr>\n",
       "  </tbody>\n",
       "</table>\n"
      ],
      "text/plain": [
       "<pandas.io.formats.style.Styler at 0x1a5d2506150>"
      ]
     },
     "metadata": {},
     "output_type": "display_data"
    }
   ],
   "source": [
    "df_dep_adm = pd.DataFrame({\"Perc. feminino\": [dep_fed_m/dep_adm_m_total, dep_est_m/dep_adm_m_total, dep_mun_m/dep_adm_m_total, dep_priv_m/dep_adm_m_total],\n",
    "                \"Perc. masculino\": [dep_fed_h/dep_adm_h_total, dep_est_h/dep_adm_h_total, dep_mun_h/dep_adm_h_total, dep_priv_h/dep_adm_h_total]})\n",
    "df_dep_adm.index = [\"Federal\", \"Estadual\", \"Municipal\", \"Privada\"]\n",
    "df_dep_adm_formatted = df_dep_adm.style.format({'Perc. feminino': \"{:,.2%}\",\n",
    "                                                'Perc. masculino': \"{:,.2%}\"})\n",
    "display(df_dep_adm_formatted)"
   ]
  },
  {
   "cell_type": "raw",
   "id": "3d0a7a1b-ad1b-411e-bb60-c7ab513ef85a",
   "metadata": {},
   "source": [
    "○ Nota da prova de Ciências Humanas"
   ]
  },
  {
   "cell_type": "code",
   "execution_count": 63,
   "id": "d9585230-b5f5-49e2-b253-9ef0b34d1824",
   "metadata": {},
   "outputs": [],
   "source": [
    "nch = df[[\"NU_NOTA_CH\", \"TP_SEXO\"]]\n",
    "nch = nch.dropna()\n",
    "nch_h = nch[nch['TP_SEXO'] == \"M\"]\n",
    "nch_m = nch[nch['TP_SEXO'] == \"F\"]\n",
    "nch_h = nch_h['NU_NOTA_CH']\n",
    "nch_m = nch_m['NU_NOTA_CH']"
   ]
  },
  {
   "cell_type": "code",
   "execution_count": 64,
   "id": "66b9638b-a406-42ba-a8c1-6216fc10f7ca",
   "metadata": {},
   "outputs": [],
   "source": [
    "nch_m_obs = nch_m.value_counts(ascending = False).sort_index()\n",
    "nch_m = nch_m.to_numpy()\n",
    "nch_m_media = np.average(nch_m)\n",
    "nch_m_dp = np.std(nch_m)"
   ]
  },
  {
   "cell_type": "code",
   "execution_count": 65,
   "id": "a7d31038-913f-4238-9aaf-3b2e1d0dc1dc",
   "metadata": {},
   "outputs": [],
   "source": [
    "nch_h_obs = nch_h.value_counts(ascending = False).sort_index()\n",
    "nch_h = nch_h.to_numpy()\n",
    "nch_h_media = np.average(nch_h)\n",
    "nch_h_dp = np.std(nch_h)"
   ]
  },
  {
   "cell_type": "code",
   "execution_count": 66,
   "id": "7ca03ab5-83c4-49ba-9c3a-63bae5af55c1",
   "metadata": {},
   "outputs": [
    {
     "data": {
      "text/html": [
       "<div>\n",
       "<style scoped>\n",
       "    .dataframe tbody tr th:only-of-type {\n",
       "        vertical-align: middle;\n",
       "    }\n",
       "\n",
       "    .dataframe tbody tr th {\n",
       "        vertical-align: top;\n",
       "    }\n",
       "\n",
       "    .dataframe thead th {\n",
       "        text-align: right;\n",
       "    }\n",
       "</style>\n",
       "<table border=\"1\" class=\"dataframe\">\n",
       "  <thead>\n",
       "    <tr style=\"text-align: right;\">\n",
       "      <th></th>\n",
       "      <th>Média</th>\n",
       "      <th>Desvio padrão</th>\n",
       "    </tr>\n",
       "  </thead>\n",
       "  <tbody>\n",
       "    <tr>\n",
       "      <th>Feminino</th>\n",
       "      <td>532.115234</td>\n",
       "      <td>72.753738</td>\n",
       "    </tr>\n",
       "    <tr>\n",
       "      <th>Masculino</th>\n",
       "      <td>544.006470</td>\n",
       "      <td>76.722786</td>\n",
       "    </tr>\n",
       "  </tbody>\n",
       "</table>\n",
       "</div>"
      ],
      "text/plain": [
       "                Média  Desvio padrão\n",
       "Feminino   532.115234      72.753738\n",
       "Masculino  544.006470      76.722786"
      ]
     },
     "metadata": {},
     "output_type": "display_data"
    }
   ],
   "source": [
    "df_nch = pd.DataFrame({\"Média\": [nch_m_media, nch_h_media],\n",
    "                \"Desvio padrão\": [nch_m_dp, nch_h_dp]})\n",
    "df_nch.index = [\"Feminino\", \"Masculino\"]\n",
    "display(df_nch)"
   ]
  },
  {
   "cell_type": "code",
   "execution_count": 67,
   "id": "a9e961a9-20f0-464a-afb4-4a01a48507d4",
   "metadata": {},
   "outputs": [
    {
     "data": {
      "text/html": [
       "<div>\n",
       "<style scoped>\n",
       "    .dataframe tbody tr th:only-of-type {\n",
       "        vertical-align: middle;\n",
       "    }\n",
       "\n",
       "    .dataframe tbody tr th {\n",
       "        vertical-align: top;\n",
       "    }\n",
       "\n",
       "    .dataframe thead th {\n",
       "        text-align: right;\n",
       "    }\n",
       "</style>\n",
       "<table border=\"1\" class=\"dataframe\">\n",
       "  <thead>\n",
       "    <tr style=\"text-align: right;\">\n",
       "      <th></th>\n",
       "      <th>Nota (Masc.)</th>\n",
       "      <th>Quantidade de observações</th>\n",
       "    </tr>\n",
       "  </thead>\n",
       "  <tbody>\n",
       "    <tr>\n",
       "      <th>0</th>\n",
       "      <td>0.000000</td>\n",
       "      <td>36</td>\n",
       "    </tr>\n",
       "    <tr>\n",
       "      <th>1</th>\n",
       "      <td>319.899994</td>\n",
       "      <td>7</td>\n",
       "    </tr>\n",
       "    <tr>\n",
       "      <th>2</th>\n",
       "      <td>320.000000</td>\n",
       "      <td>2</td>\n",
       "    </tr>\n",
       "    <tr>\n",
       "      <th>3</th>\n",
       "      <td>320.100006</td>\n",
       "      <td>1</td>\n",
       "    </tr>\n",
       "    <tr>\n",
       "      <th>4</th>\n",
       "      <td>320.299988</td>\n",
       "      <td>1</td>\n",
       "    </tr>\n",
       "    <tr>\n",
       "      <th>...</th>\n",
       "      <td>...</td>\n",
       "      <td>...</td>\n",
       "    </tr>\n",
       "    <tr>\n",
       "      <th>4747</th>\n",
       "      <td>840.400024</td>\n",
       "      <td>1</td>\n",
       "    </tr>\n",
       "    <tr>\n",
       "      <th>4748</th>\n",
       "      <td>847.299988</td>\n",
       "      <td>1</td>\n",
       "    </tr>\n",
       "    <tr>\n",
       "      <th>4749</th>\n",
       "      <td>848.500000</td>\n",
       "      <td>1</td>\n",
       "    </tr>\n",
       "    <tr>\n",
       "      <th>4750</th>\n",
       "      <td>850.599976</td>\n",
       "      <td>1</td>\n",
       "    </tr>\n",
       "    <tr>\n",
       "      <th>4751</th>\n",
       "      <td>859.099976</td>\n",
       "      <td>4</td>\n",
       "    </tr>\n",
       "  </tbody>\n",
       "</table>\n",
       "<p>4752 rows × 2 columns</p>\n",
       "</div>"
      ],
      "text/plain": [
       "      Nota (Masc.)  Quantidade de observações\n",
       "0         0.000000                         36\n",
       "1       319.899994                          7\n",
       "2       320.000000                          2\n",
       "3       320.100006                          1\n",
       "4       320.299988                          1\n",
       "...            ...                        ...\n",
       "4747    840.400024                          1\n",
       "4748    847.299988                          1\n",
       "4749    848.500000                          1\n",
       "4750    850.599976                          1\n",
       "4751    859.099976                          4\n",
       "\n",
       "[4752 rows x 2 columns]"
      ]
     },
     "metadata": {},
     "output_type": "display_data"
    }
   ],
   "source": [
    "df_nch_h = pd.DataFrame({\"Nota (Masc.)\": nch_h_obs.index,\n",
    "                \"Quantidade de observações\": nch_h_obs.values})\n",
    "display(df_nch_h)"
   ]
  },
  {
   "cell_type": "code",
   "execution_count": 68,
   "id": "7aa2defa-59c7-4bfc-91e1-54523a6bc94a",
   "metadata": {},
   "outputs": [
    {
     "data": {
      "text/html": [
       "<div>\n",
       "<style scoped>\n",
       "    .dataframe tbody tr th:only-of-type {\n",
       "        vertical-align: middle;\n",
       "    }\n",
       "\n",
       "    .dataframe tbody tr th {\n",
       "        vertical-align: top;\n",
       "    }\n",
       "\n",
       "    .dataframe thead th {\n",
       "        text-align: right;\n",
       "    }\n",
       "</style>\n",
       "<table border=\"1\" class=\"dataframe\">\n",
       "  <thead>\n",
       "    <tr style=\"text-align: right;\">\n",
       "      <th></th>\n",
       "      <th>Nota (Fem.)</th>\n",
       "      <th>Quantidade de observações</th>\n",
       "    </tr>\n",
       "  </thead>\n",
       "  <tbody>\n",
       "    <tr>\n",
       "      <th>0</th>\n",
       "      <td>0.000000</td>\n",
       "      <td>52</td>\n",
       "    </tr>\n",
       "    <tr>\n",
       "      <th>1</th>\n",
       "      <td>319.899994</td>\n",
       "      <td>10</td>\n",
       "    </tr>\n",
       "    <tr>\n",
       "      <th>2</th>\n",
       "      <td>320.000000</td>\n",
       "      <td>2</td>\n",
       "    </tr>\n",
       "    <tr>\n",
       "      <th>3</th>\n",
       "      <td>320.100006</td>\n",
       "      <td>2</td>\n",
       "    </tr>\n",
       "    <tr>\n",
       "      <th>4</th>\n",
       "      <td>320.200012</td>\n",
       "      <td>2</td>\n",
       "    </tr>\n",
       "    <tr>\n",
       "      <th>...</th>\n",
       "      <td>...</td>\n",
       "      <td>...</td>\n",
       "    </tr>\n",
       "    <tr>\n",
       "      <th>4683</th>\n",
       "      <td>836.299988</td>\n",
       "      <td>1</td>\n",
       "    </tr>\n",
       "    <tr>\n",
       "      <th>4684</th>\n",
       "      <td>839.500000</td>\n",
       "      <td>1</td>\n",
       "    </tr>\n",
       "    <tr>\n",
       "      <th>4685</th>\n",
       "      <td>840.400024</td>\n",
       "      <td>2</td>\n",
       "    </tr>\n",
       "    <tr>\n",
       "      <th>4686</th>\n",
       "      <td>848.500000</td>\n",
       "      <td>2</td>\n",
       "    </tr>\n",
       "    <tr>\n",
       "      <th>4687</th>\n",
       "      <td>850.599976</td>\n",
       "      <td>2</td>\n",
       "    </tr>\n",
       "  </tbody>\n",
       "</table>\n",
       "<p>4688 rows × 2 columns</p>\n",
       "</div>"
      ],
      "text/plain": [
       "      Nota (Fem.)  Quantidade de observações\n",
       "0        0.000000                         52\n",
       "1      319.899994                         10\n",
       "2      320.000000                          2\n",
       "3      320.100006                          2\n",
       "4      320.200012                          2\n",
       "...           ...                        ...\n",
       "4683   836.299988                          1\n",
       "4684   839.500000                          1\n",
       "4685   840.400024                          2\n",
       "4686   848.500000                          2\n",
       "4687   850.599976                          2\n",
       "\n",
       "[4688 rows x 2 columns]"
      ]
     },
     "metadata": {},
     "output_type": "display_data"
    }
   ],
   "source": [
    "df_nch_m = pd.DataFrame({\"Nota (Fem.)\": nch_m_obs.index,\n",
    "                \"Quantidade de observações\": nch_m_obs.values})\n",
    "display(df_nch_m)"
   ]
  },
  {
   "cell_type": "raw",
   "id": "d34209a6-cd6e-4143-a962-487959823121",
   "metadata": {},
   "source": [
    "○ Nota da prova de Ciências da Natureza"
   ]
  },
  {
   "cell_type": "code",
   "execution_count": 69,
   "id": "2405b179-505a-4fdc-917a-a62891da2607",
   "metadata": {},
   "outputs": [],
   "source": [
    "ncn = df[[\"NU_NOTA_CN\", \"TP_SEXO\"]]\n",
    "ncn = ncn.dropna()\n",
    "ncn_h = ncn[ncn['TP_SEXO'] == \"M\"]\n",
    "ncn_m = ncn[ncn['TP_SEXO'] == \"F\"]\n",
    "ncn_h = ncn_h['NU_NOTA_CN']\n",
    "ncn_m = ncn_m['NU_NOTA_CN']"
   ]
  },
  {
   "cell_type": "code",
   "execution_count": 70,
   "id": "26dc1319-488c-41eb-ac7e-5dacb6283f04",
   "metadata": {},
   "outputs": [],
   "source": [
    "ncn_m_obs = ncn_m.value_counts(ascending = False).sort_index()\n",
    "ncn_m = ncn_m.to_numpy()\n",
    "ncn_m_media = np.average(ncn_m)\n",
    "ncn_m_dp = np.std(ncn_m)"
   ]
  },
  {
   "cell_type": "code",
   "execution_count": 71,
   "id": "d2e9c597-17b7-400e-9170-2fa048490a5d",
   "metadata": {},
   "outputs": [],
   "source": [
    "ncn_h_obs = ncn_h.value_counts(ascending = False).sort_index()\n",
    "ncn_h = ncn_h.to_numpy()\n",
    "ncn_h_media = np.average(ncn_h)\n",
    "ncn_h_dp = np.std(ncn_h)"
   ]
  },
  {
   "cell_type": "code",
   "execution_count": 72,
   "id": "faf47ff3-2854-4c19-84e2-c2c2abec4864",
   "metadata": {},
   "outputs": [
    {
     "data": {
      "text/html": [
       "<div>\n",
       "<style scoped>\n",
       "    .dataframe tbody tr th:only-of-type {\n",
       "        vertical-align: middle;\n",
       "    }\n",
       "\n",
       "    .dataframe tbody tr th {\n",
       "        vertical-align: top;\n",
       "    }\n",
       "\n",
       "    .dataframe thead th {\n",
       "        text-align: right;\n",
       "    }\n",
       "</style>\n",
       "<table border=\"1\" class=\"dataframe\">\n",
       "  <thead>\n",
       "    <tr style=\"text-align: right;\">\n",
       "      <th></th>\n",
       "      <th>Média</th>\n",
       "      <th>Desvio padrão</th>\n",
       "    </tr>\n",
       "  </thead>\n",
       "  <tbody>\n",
       "    <tr>\n",
       "      <th>Feminino</th>\n",
       "      <td>474.435425</td>\n",
       "      <td>71.179276</td>\n",
       "    </tr>\n",
       "    <tr>\n",
       "      <th>Masculino</th>\n",
       "      <td>495.017548</td>\n",
       "      <td>78.943649</td>\n",
       "    </tr>\n",
       "  </tbody>\n",
       "</table>\n",
       "</div>"
      ],
      "text/plain": [
       "                Média  Desvio padrão\n",
       "Feminino   474.435425      71.179276\n",
       "Masculino  495.017548      78.943649"
      ]
     },
     "metadata": {},
     "output_type": "display_data"
    }
   ],
   "source": [
    "df_ncn = pd.DataFrame({\"Média\": [ncn_m_media, ncn_h_media],\n",
    "                \"Desvio padrão\": [ncn_m_dp, ncn_h_dp]})\n",
    "df_ncn.index = [\"Feminino\", \"Masculino\"]\n",
    "display(df_ncn)"
   ]
  },
  {
   "cell_type": "code",
   "execution_count": 73,
   "id": "d4d8339a-e9ca-4aca-aeb8-d3c902841b6f",
   "metadata": {},
   "outputs": [
    {
     "data": {
      "text/html": [
       "<div>\n",
       "<style scoped>\n",
       "    .dataframe tbody tr th:only-of-type {\n",
       "        vertical-align: middle;\n",
       "    }\n",
       "\n",
       "    .dataframe tbody tr th {\n",
       "        vertical-align: top;\n",
       "    }\n",
       "\n",
       "    .dataframe thead th {\n",
       "        text-align: right;\n",
       "    }\n",
       "</style>\n",
       "<table border=\"1\" class=\"dataframe\">\n",
       "  <thead>\n",
       "    <tr style=\"text-align: right;\">\n",
       "      <th></th>\n",
       "      <th>Nota (Masc.)</th>\n",
       "      <th>Quantidade de observações</th>\n",
       "    </tr>\n",
       "  </thead>\n",
       "  <tbody>\n",
       "    <tr>\n",
       "      <th>0</th>\n",
       "      <td>0.000000</td>\n",
       "      <td>138</td>\n",
       "    </tr>\n",
       "    <tr>\n",
       "      <th>1</th>\n",
       "      <td>342.700012</td>\n",
       "      <td>1</td>\n",
       "    </tr>\n",
       "    <tr>\n",
       "      <th>2</th>\n",
       "      <td>343.299988</td>\n",
       "      <td>1</td>\n",
       "    </tr>\n",
       "    <tr>\n",
       "      <th>3</th>\n",
       "      <td>343.500000</td>\n",
       "      <td>1</td>\n",
       "    </tr>\n",
       "    <tr>\n",
       "      <th>4</th>\n",
       "      <td>344.600006</td>\n",
       "      <td>1</td>\n",
       "    </tr>\n",
       "    <tr>\n",
       "      <th>...</th>\n",
       "      <td>...</td>\n",
       "      <td>...</td>\n",
       "    </tr>\n",
       "    <tr>\n",
       "      <th>4538</th>\n",
       "      <td>849.599976</td>\n",
       "      <td>2</td>\n",
       "    </tr>\n",
       "    <tr>\n",
       "      <th>4539</th>\n",
       "      <td>853.900024</td>\n",
       "      <td>1</td>\n",
       "    </tr>\n",
       "    <tr>\n",
       "      <th>4540</th>\n",
       "      <td>861.400024</td>\n",
       "      <td>2</td>\n",
       "    </tr>\n",
       "    <tr>\n",
       "      <th>4541</th>\n",
       "      <td>862.400024</td>\n",
       "      <td>2</td>\n",
       "    </tr>\n",
       "    <tr>\n",
       "      <th>4542</th>\n",
       "      <td>871.299988</td>\n",
       "      <td>9</td>\n",
       "    </tr>\n",
       "  </tbody>\n",
       "</table>\n",
       "<p>4543 rows × 2 columns</p>\n",
       "</div>"
      ],
      "text/plain": [
       "      Nota (Masc.)  Quantidade de observações\n",
       "0         0.000000                        138\n",
       "1       342.700012                          1\n",
       "2       343.299988                          1\n",
       "3       343.500000                          1\n",
       "4       344.600006                          1\n",
       "...            ...                        ...\n",
       "4538    849.599976                          2\n",
       "4539    853.900024                          1\n",
       "4540    861.400024                          2\n",
       "4541    862.400024                          2\n",
       "4542    871.299988                          9\n",
       "\n",
       "[4543 rows x 2 columns]"
      ]
     },
     "metadata": {},
     "output_type": "display_data"
    }
   ],
   "source": [
    "df_ncn_h = pd.DataFrame({\"Nota (Masc.)\": ncn_h_obs.index,\n",
    "                \"Quantidade de observações\": ncn_h_obs.values})\n",
    "display(df_ncn_h)"
   ]
  },
  {
   "cell_type": "code",
   "execution_count": 74,
   "id": "e5ceb22f-d724-41c5-8280-47274f86de17",
   "metadata": {},
   "outputs": [
    {
     "data": {
      "text/html": [
       "<div>\n",
       "<style scoped>\n",
       "    .dataframe tbody tr th:only-of-type {\n",
       "        vertical-align: middle;\n",
       "    }\n",
       "\n",
       "    .dataframe tbody tr th {\n",
       "        vertical-align: top;\n",
       "    }\n",
       "\n",
       "    .dataframe thead th {\n",
       "        text-align: right;\n",
       "    }\n",
       "</style>\n",
       "<table border=\"1\" class=\"dataframe\">\n",
       "  <thead>\n",
       "    <tr style=\"text-align: right;\">\n",
       "      <th></th>\n",
       "      <th>Nota (Fem.)</th>\n",
       "      <th>Quantidade de observações</th>\n",
       "    </tr>\n",
       "  </thead>\n",
       "  <tbody>\n",
       "    <tr>\n",
       "      <th>0</th>\n",
       "      <td>0.000000</td>\n",
       "      <td>138</td>\n",
       "    </tr>\n",
       "    <tr>\n",
       "      <th>1</th>\n",
       "      <td>341.399994</td>\n",
       "      <td>1</td>\n",
       "    </tr>\n",
       "    <tr>\n",
       "      <th>2</th>\n",
       "      <td>342.500000</td>\n",
       "      <td>1</td>\n",
       "    </tr>\n",
       "    <tr>\n",
       "      <th>3</th>\n",
       "      <td>342.799988</td>\n",
       "      <td>1</td>\n",
       "    </tr>\n",
       "    <tr>\n",
       "      <th>4</th>\n",
       "      <td>342.899994</td>\n",
       "      <td>1</td>\n",
       "    </tr>\n",
       "    <tr>\n",
       "      <th>...</th>\n",
       "      <td>...</td>\n",
       "      <td>...</td>\n",
       "    </tr>\n",
       "    <tr>\n",
       "      <th>4297</th>\n",
       "      <td>828.500000</td>\n",
       "      <td>1</td>\n",
       "    </tr>\n",
       "    <tr>\n",
       "      <th>4298</th>\n",
       "      <td>830.500000</td>\n",
       "      <td>1</td>\n",
       "    </tr>\n",
       "    <tr>\n",
       "      <th>4299</th>\n",
       "      <td>834.500000</td>\n",
       "      <td>1</td>\n",
       "    </tr>\n",
       "    <tr>\n",
       "      <th>4300</th>\n",
       "      <td>841.500000</td>\n",
       "      <td>1</td>\n",
       "    </tr>\n",
       "    <tr>\n",
       "      <th>4301</th>\n",
       "      <td>861.400024</td>\n",
       "      <td>1</td>\n",
       "    </tr>\n",
       "  </tbody>\n",
       "</table>\n",
       "<p>4302 rows × 2 columns</p>\n",
       "</div>"
      ],
      "text/plain": [
       "      Nota (Fem.)  Quantidade de observações\n",
       "0        0.000000                        138\n",
       "1      341.399994                          1\n",
       "2      342.500000                          1\n",
       "3      342.799988                          1\n",
       "4      342.899994                          1\n",
       "...           ...                        ...\n",
       "4297   828.500000                          1\n",
       "4298   830.500000                          1\n",
       "4299   834.500000                          1\n",
       "4300   841.500000                          1\n",
       "4301   861.400024                          1\n",
       "\n",
       "[4302 rows x 2 columns]"
      ]
     },
     "metadata": {},
     "output_type": "display_data"
    }
   ],
   "source": [
    "df_ncn_m = pd.DataFrame({\"Nota (Fem.)\": ncn_m_obs.index,\n",
    "                \"Quantidade de observações\": ncn_m_obs.values})\n",
    "display(df_ncn_m)"
   ]
  },
  {
   "cell_type": "raw",
   "id": "8d21accf-a62d-41ff-9ed8-04175e357c31",
   "metadata": {},
   "source": [
    "○ Nota da prova de Linguagens e Códigos"
   ]
  },
  {
   "cell_type": "code",
   "execution_count": 75,
   "id": "8580104e-d39f-4b19-8e59-9ffb63008d89",
   "metadata": {},
   "outputs": [],
   "source": [
    "nlc = df[[\"NU_NOTA_LC\", \"TP_SEXO\"]]\n",
    "nlc = nlc.dropna()\n",
    "nlc_h = nlc[nlc['TP_SEXO'] == \"M\"]\n",
    "nlc_m = nlc[nlc['TP_SEXO'] == \"F\"]\n",
    "nlc_h = nlc_h['NU_NOTA_LC']\n",
    "nlc_m = nlc_m['NU_NOTA_LC']"
   ]
  },
  {
   "cell_type": "code",
   "execution_count": 76,
   "id": "50ba9fc7-2d52-4cad-a747-97300290549c",
   "metadata": {},
   "outputs": [],
   "source": [
    "nlc_m_obs = nlc_m.value_counts(ascending = False).sort_index()\n",
    "nlc_m = nlc_m.to_numpy()\n",
    "nlc_m_media = np.average(nlc_m)\n",
    "nlc_m_dp = np.std(nlc_m)"
   ]
  },
  {
   "cell_type": "code",
   "execution_count": 77,
   "id": "6e53467e-4b48-4e8a-85a6-f9390e5ad45c",
   "metadata": {},
   "outputs": [],
   "source": [
    "nlc_h_obs = nlc_h.value_counts(ascending = False).sort_index()\n",
    "nlc_h = nlc_h.to_numpy()\n",
    "nlc_h_media = np.average(nlc_h)\n",
    "nlc_h_dp = np.std(nlc_h)"
   ]
  },
  {
   "cell_type": "code",
   "execution_count": 78,
   "id": "b0a5ba57-8adf-43aa-922b-30bbc3beae95",
   "metadata": {},
   "outputs": [
    {
     "data": {
      "text/html": [
       "<div>\n",
       "<style scoped>\n",
       "    .dataframe tbody tr th:only-of-type {\n",
       "        vertical-align: middle;\n",
       "    }\n",
       "\n",
       "    .dataframe tbody tr th {\n",
       "        vertical-align: top;\n",
       "    }\n",
       "\n",
       "    .dataframe thead th {\n",
       "        text-align: right;\n",
       "    }\n",
       "</style>\n",
       "<table border=\"1\" class=\"dataframe\">\n",
       "  <thead>\n",
       "    <tr style=\"text-align: right;\">\n",
       "      <th></th>\n",
       "      <th>Média</th>\n",
       "      <th>Desvio padrão</th>\n",
       "    </tr>\n",
       "  </thead>\n",
       "  <tbody>\n",
       "    <tr>\n",
       "      <th>Feminino</th>\n",
       "      <td>522.254456</td>\n",
       "      <td>68.011612</td>\n",
       "    </tr>\n",
       "    <tr>\n",
       "      <th>Masculino</th>\n",
       "      <td>524.278564</td>\n",
       "      <td>71.024460</td>\n",
       "    </tr>\n",
       "  </tbody>\n",
       "</table>\n",
       "</div>"
      ],
      "text/plain": [
       "                Média  Desvio padrão\n",
       "Feminino   522.254456      68.011612\n",
       "Masculino  524.278564      71.024460"
      ]
     },
     "metadata": {},
     "output_type": "display_data"
    }
   ],
   "source": [
    "df_nlc = pd.DataFrame({\"Média\": [nlc_m_media, nlc_h_media],\n",
    "                \"Desvio padrão\": [nlc_m_dp, nlc_h_dp]})\n",
    "df_nlc.index = [\"Feminino\", \"Masculino\"]\n",
    "display(df_nlc)"
   ]
  },
  {
   "cell_type": "code",
   "execution_count": 79,
   "id": "ddaa5423-a8cc-432a-880f-0cc6b9766a9b",
   "metadata": {},
   "outputs": [
    {
     "data": {
      "text/html": [
       "<div>\n",
       "<style scoped>\n",
       "    .dataframe tbody tr th:only-of-type {\n",
       "        vertical-align: middle;\n",
       "    }\n",
       "\n",
       "    .dataframe tbody tr th {\n",
       "        vertical-align: top;\n",
       "    }\n",
       "\n",
       "    .dataframe thead th {\n",
       "        text-align: right;\n",
       "    }\n",
       "</style>\n",
       "<table border=\"1\" class=\"dataframe\">\n",
       "  <thead>\n",
       "    <tr style=\"text-align: right;\">\n",
       "      <th></th>\n",
       "      <th>Nota (Masc.)</th>\n",
       "      <th>Quantidade de observações</th>\n",
       "    </tr>\n",
       "  </thead>\n",
       "  <tbody>\n",
       "    <tr>\n",
       "      <th>0</th>\n",
       "      <td>0.000000</td>\n",
       "      <td>284</td>\n",
       "    </tr>\n",
       "    <tr>\n",
       "      <th>1</th>\n",
       "      <td>291.399994</td>\n",
       "      <td>1</td>\n",
       "    </tr>\n",
       "    <tr>\n",
       "      <th>2</th>\n",
       "      <td>291.700012</td>\n",
       "      <td>1</td>\n",
       "    </tr>\n",
       "    <tr>\n",
       "      <th>3</th>\n",
       "      <td>291.799988</td>\n",
       "      <td>1</td>\n",
       "    </tr>\n",
       "    <tr>\n",
       "      <th>4</th>\n",
       "      <td>293.100006</td>\n",
       "      <td>1</td>\n",
       "    </tr>\n",
       "    <tr>\n",
       "      <th>...</th>\n",
       "      <td>...</td>\n",
       "      <td>...</td>\n",
       "    </tr>\n",
       "    <tr>\n",
       "      <th>4122</th>\n",
       "      <td>773.700012</td>\n",
       "      <td>1</td>\n",
       "    </tr>\n",
       "    <tr>\n",
       "      <th>4123</th>\n",
       "      <td>774.400024</td>\n",
       "      <td>1</td>\n",
       "    </tr>\n",
       "    <tr>\n",
       "      <th>4124</th>\n",
       "      <td>774.700012</td>\n",
       "      <td>1</td>\n",
       "    </tr>\n",
       "    <tr>\n",
       "      <th>4125</th>\n",
       "      <td>789.799988</td>\n",
       "      <td>1</td>\n",
       "    </tr>\n",
       "    <tr>\n",
       "      <th>4126</th>\n",
       "      <td>802.599976</td>\n",
       "      <td>1</td>\n",
       "    </tr>\n",
       "  </tbody>\n",
       "</table>\n",
       "<p>4127 rows × 2 columns</p>\n",
       "</div>"
      ],
      "text/plain": [
       "      Nota (Masc.)  Quantidade de observações\n",
       "0         0.000000                        284\n",
       "1       291.399994                          1\n",
       "2       291.700012                          1\n",
       "3       291.799988                          1\n",
       "4       293.100006                          1\n",
       "...            ...                        ...\n",
       "4122    773.700012                          1\n",
       "4123    774.400024                          1\n",
       "4124    774.700012                          1\n",
       "4125    789.799988                          1\n",
       "4126    802.599976                          1\n",
       "\n",
       "[4127 rows x 2 columns]"
      ]
     },
     "metadata": {},
     "output_type": "display_data"
    }
   ],
   "source": [
    "df_nlc_h = pd.DataFrame({\"Nota (Masc.)\": nlc_h_obs.index,\n",
    "                \"Quantidade de observações\": nlc_h_obs.values})\n",
    "display(df_nlc_h)"
   ]
  },
  {
   "cell_type": "code",
   "execution_count": 80,
   "id": "1e383590-bdd4-43f6-9943-6807eedb7bed",
   "metadata": {},
   "outputs": [
    {
     "data": {
      "text/html": [
       "<div>\n",
       "<style scoped>\n",
       "    .dataframe tbody tr th:only-of-type {\n",
       "        vertical-align: middle;\n",
       "    }\n",
       "\n",
       "    .dataframe tbody tr th {\n",
       "        vertical-align: top;\n",
       "    }\n",
       "\n",
       "    .dataframe thead th {\n",
       "        text-align: right;\n",
       "    }\n",
       "</style>\n",
       "<table border=\"1\" class=\"dataframe\">\n",
       "  <thead>\n",
       "    <tr style=\"text-align: right;\">\n",
       "      <th></th>\n",
       "      <th>Nota (Fem.)</th>\n",
       "      <th>Quantidade de observações</th>\n",
       "    </tr>\n",
       "  </thead>\n",
       "  <tbody>\n",
       "    <tr>\n",
       "      <th>0</th>\n",
       "      <td>0.000000</td>\n",
       "      <td>272</td>\n",
       "    </tr>\n",
       "    <tr>\n",
       "      <th>1</th>\n",
       "      <td>292.100006</td>\n",
       "      <td>1</td>\n",
       "    </tr>\n",
       "    <tr>\n",
       "      <th>2</th>\n",
       "      <td>292.200012</td>\n",
       "      <td>1</td>\n",
       "    </tr>\n",
       "    <tr>\n",
       "      <th>3</th>\n",
       "      <td>292.600006</td>\n",
       "      <td>1</td>\n",
       "    </tr>\n",
       "    <tr>\n",
       "      <th>4</th>\n",
       "      <td>293.000000</td>\n",
       "      <td>1</td>\n",
       "    </tr>\n",
       "    <tr>\n",
       "      <th>...</th>\n",
       "      <td>...</td>\n",
       "      <td>...</td>\n",
       "    </tr>\n",
       "    <tr>\n",
       "      <th>4148</th>\n",
       "      <td>768.599976</td>\n",
       "      <td>1</td>\n",
       "    </tr>\n",
       "    <tr>\n",
       "      <th>4149</th>\n",
       "      <td>768.900024</td>\n",
       "      <td>1</td>\n",
       "    </tr>\n",
       "    <tr>\n",
       "      <th>4150</th>\n",
       "      <td>780.299988</td>\n",
       "      <td>1</td>\n",
       "    </tr>\n",
       "    <tr>\n",
       "      <th>4151</th>\n",
       "      <td>781.099976</td>\n",
       "      <td>1</td>\n",
       "    </tr>\n",
       "    <tr>\n",
       "      <th>4152</th>\n",
       "      <td>788.299988</td>\n",
       "      <td>1</td>\n",
       "    </tr>\n",
       "  </tbody>\n",
       "</table>\n",
       "<p>4153 rows × 2 columns</p>\n",
       "</div>"
      ],
      "text/plain": [
       "      Nota (Fem.)  Quantidade de observações\n",
       "0        0.000000                        272\n",
       "1      292.100006                          1\n",
       "2      292.200012                          1\n",
       "3      292.600006                          1\n",
       "4      293.000000                          1\n",
       "...           ...                        ...\n",
       "4148   768.599976                          1\n",
       "4149   768.900024                          1\n",
       "4150   780.299988                          1\n",
       "4151   781.099976                          1\n",
       "4152   788.299988                          1\n",
       "\n",
       "[4153 rows x 2 columns]"
      ]
     },
     "metadata": {},
     "output_type": "display_data"
    }
   ],
   "source": [
    "df_nlc_m = pd.DataFrame({\"Nota (Fem.)\": nlc_m_obs.index,\n",
    "                \"Quantidade de observações\": nlc_m_obs.values})\n",
    "display(df_nlc_m)"
   ]
  },
  {
   "cell_type": "raw",
   "id": "17a4ba99-067b-42ea-91d3-87383421b6ea",
   "metadata": {},
   "source": [
    "○ Nota da prova de Matemática"
   ]
  },
  {
   "cell_type": "code",
   "execution_count": 81,
   "id": "8683dda6-6c09-4c84-884e-0ddf0822cf6d",
   "metadata": {},
   "outputs": [],
   "source": [
    "nmt = df[[\"NU_NOTA_MT\", \"TP_SEXO\"]]\n",
    "nmt = nmt.dropna()\n",
    "nmt_h = nmt[nmt['TP_SEXO'] == \"M\"]\n",
    "nmt_m = nmt[nmt['TP_SEXO'] == \"F\"]\n",
    "nmt_h = nmt_h['NU_NOTA_MT']\n",
    "nmt_m = nmt_m['NU_NOTA_MT']"
   ]
  },
  {
   "cell_type": "code",
   "execution_count": 82,
   "id": "df4cf0de-3c0f-468e-8c37-99a41820ec25",
   "metadata": {},
   "outputs": [],
   "source": [
    "nmt_m_obs = nmt_m.value_counts(ascending = False).sort_index()\n",
    "nmt_m = nmt_m.to_numpy()\n",
    "nmt_m_media = np.average(nmt_m)\n",
    "nmt_m_dp = np.std(nmt_m)"
   ]
  },
  {
   "cell_type": "code",
   "execution_count": 83,
   "id": "8756ad4e-46cd-4c21-a0ff-4968c2866a1f",
   "metadata": {},
   "outputs": [],
   "source": [
    "nmt_h_obs = nmt_h.value_counts(ascending = False).sort_index()\n",
    "nmt_h = nmt_h.to_numpy()\n",
    "nmt_h_media = np.average(nmt_h)\n",
    "nmt_h_dp = np.std(nmt_h)"
   ]
  },
  {
   "cell_type": "code",
   "execution_count": 84,
   "id": "b9ef7e81-34fc-4044-b103-283da6eb9b60",
   "metadata": {},
   "outputs": [
    {
     "data": {
      "text/html": [
       "<div>\n",
       "<style scoped>\n",
       "    .dataframe tbody tr th:only-of-type {\n",
       "        vertical-align: middle;\n",
       "    }\n",
       "\n",
       "    .dataframe tbody tr th {\n",
       "        vertical-align: top;\n",
       "    }\n",
       "\n",
       "    .dataframe thead th {\n",
       "        text-align: right;\n",
       "    }\n",
       "</style>\n",
       "<table border=\"1\" class=\"dataframe\">\n",
       "  <thead>\n",
       "    <tr style=\"text-align: right;\">\n",
       "      <th></th>\n",
       "      <th>Média</th>\n",
       "      <th>Desvio padrão</th>\n",
       "    </tr>\n",
       "  </thead>\n",
       "  <tbody>\n",
       "    <tr>\n",
       "      <th>Feminino</th>\n",
       "      <td>476.822174</td>\n",
       "      <td>96.855507</td>\n",
       "    </tr>\n",
       "    <tr>\n",
       "      <th>Masculino</th>\n",
       "      <td>518.364868</td>\n",
       "      <td>115.316307</td>\n",
       "    </tr>\n",
       "  </tbody>\n",
       "</table>\n",
       "</div>"
      ],
      "text/plain": [
       "                Média  Desvio padrão\n",
       "Feminino   476.822174      96.855507\n",
       "Masculino  518.364868     115.316307"
      ]
     },
     "metadata": {},
     "output_type": "display_data"
    }
   ],
   "source": [
    "df_nmt = pd.DataFrame({\"Média\": [nmt_m_media, nmt_h_media],\n",
    "                \"Desvio padrão\": [nmt_m_dp, nmt_h_dp]})\n",
    "df_nmt.index = [\"Feminino\", \"Masculino\"]\n",
    "display(df_nmt)"
   ]
  },
  {
   "cell_type": "code",
   "execution_count": 85,
   "id": "f27334a5-87d4-4fc6-8e70-3500d33b0247",
   "metadata": {},
   "outputs": [
    {
     "data": {
      "text/html": [
       "<div>\n",
       "<style scoped>\n",
       "    .dataframe tbody tr th:only-of-type {\n",
       "        vertical-align: middle;\n",
       "    }\n",
       "\n",
       "    .dataframe tbody tr th {\n",
       "        vertical-align: top;\n",
       "    }\n",
       "\n",
       "    .dataframe thead th {\n",
       "        text-align: right;\n",
       "    }\n",
       "</style>\n",
       "<table border=\"1\" class=\"dataframe\">\n",
       "  <thead>\n",
       "    <tr style=\"text-align: right;\">\n",
       "      <th></th>\n",
       "      <th>Nota (Masc.)</th>\n",
       "      <th>Quantidade de observações</th>\n",
       "    </tr>\n",
       "  </thead>\n",
       "  <tbody>\n",
       "    <tr>\n",
       "      <th>0</th>\n",
       "      <td>0.000000</td>\n",
       "      <td>406</td>\n",
       "    </tr>\n",
       "    <tr>\n",
       "      <th>1</th>\n",
       "      <td>319.500000</td>\n",
       "      <td>1</td>\n",
       "    </tr>\n",
       "    <tr>\n",
       "      <th>2</th>\n",
       "      <td>319.700012</td>\n",
       "      <td>3</td>\n",
       "    </tr>\n",
       "    <tr>\n",
       "      <th>3</th>\n",
       "      <td>319.799988</td>\n",
       "      <td>1</td>\n",
       "    </tr>\n",
       "    <tr>\n",
       "      <th>4</th>\n",
       "      <td>319.899994</td>\n",
       "      <td>4</td>\n",
       "    </tr>\n",
       "    <tr>\n",
       "      <th>...</th>\n",
       "      <td>...</td>\n",
       "      <td>...</td>\n",
       "    </tr>\n",
       "    <tr>\n",
       "      <th>6299</th>\n",
       "      <td>982.500000</td>\n",
       "      <td>1</td>\n",
       "    </tr>\n",
       "    <tr>\n",
       "      <th>6300</th>\n",
       "      <td>983.099976</td>\n",
       "      <td>4</td>\n",
       "    </tr>\n",
       "    <tr>\n",
       "      <th>6301</th>\n",
       "      <td>984.299988</td>\n",
       "      <td>1</td>\n",
       "    </tr>\n",
       "    <tr>\n",
       "      <th>6302</th>\n",
       "      <td>990.500000</td>\n",
       "      <td>7</td>\n",
       "    </tr>\n",
       "    <tr>\n",
       "      <th>6303</th>\n",
       "      <td>991.500000</td>\n",
       "      <td>13</td>\n",
       "    </tr>\n",
       "  </tbody>\n",
       "</table>\n",
       "<p>6304 rows × 2 columns</p>\n",
       "</div>"
      ],
      "text/plain": [
       "      Nota (Masc.)  Quantidade de observações\n",
       "0         0.000000                        406\n",
       "1       319.500000                          1\n",
       "2       319.700012                          3\n",
       "3       319.799988                          1\n",
       "4       319.899994                          4\n",
       "...            ...                        ...\n",
       "6299    982.500000                          1\n",
       "6300    983.099976                          4\n",
       "6301    984.299988                          1\n",
       "6302    990.500000                          7\n",
       "6303    991.500000                         13\n",
       "\n",
       "[6304 rows x 2 columns]"
      ]
     },
     "metadata": {},
     "output_type": "display_data"
    }
   ],
   "source": [
    "df_nmt_h = pd.DataFrame({\"Nota (Masc.)\": nmt_h_obs.index,\n",
    "                \"Quantidade de observações\": nmt_h_obs.values})\n",
    "display(df_nmt_h)"
   ]
  },
  {
   "cell_type": "code",
   "execution_count": 86,
   "id": "0b45004c-31d0-49b7-9759-368e109160f2",
   "metadata": {},
   "outputs": [
    {
     "data": {
      "text/html": [
       "<div>\n",
       "<style scoped>\n",
       "    .dataframe tbody tr th:only-of-type {\n",
       "        vertical-align: middle;\n",
       "    }\n",
       "\n",
       "    .dataframe tbody tr th {\n",
       "        vertical-align: top;\n",
       "    }\n",
       "\n",
       "    .dataframe thead th {\n",
       "        text-align: right;\n",
       "    }\n",
       "</style>\n",
       "<table border=\"1\" class=\"dataframe\">\n",
       "  <thead>\n",
       "    <tr style=\"text-align: right;\">\n",
       "      <th></th>\n",
       "      <th>Nota (Fem.)</th>\n",
       "      <th>Quantidade de observações</th>\n",
       "    </tr>\n",
       "  </thead>\n",
       "  <tbody>\n",
       "    <tr>\n",
       "      <th>0</th>\n",
       "      <td>0.000000</td>\n",
       "      <td>428</td>\n",
       "    </tr>\n",
       "    <tr>\n",
       "      <th>1</th>\n",
       "      <td>319.500000</td>\n",
       "      <td>3</td>\n",
       "    </tr>\n",
       "    <tr>\n",
       "      <th>2</th>\n",
       "      <td>319.600006</td>\n",
       "      <td>3</td>\n",
       "    </tr>\n",
       "    <tr>\n",
       "      <th>3</th>\n",
       "      <td>319.700012</td>\n",
       "      <td>2</td>\n",
       "    </tr>\n",
       "    <tr>\n",
       "      <th>4</th>\n",
       "      <td>319.799988</td>\n",
       "      <td>3</td>\n",
       "    </tr>\n",
       "    <tr>\n",
       "      <th>...</th>\n",
       "      <td>...</td>\n",
       "      <td>...</td>\n",
       "    </tr>\n",
       "    <tr>\n",
       "      <th>5919</th>\n",
       "      <td>980.400024</td>\n",
       "      <td>3</td>\n",
       "    </tr>\n",
       "    <tr>\n",
       "      <th>5920</th>\n",
       "      <td>984.200012</td>\n",
       "      <td>1</td>\n",
       "    </tr>\n",
       "    <tr>\n",
       "      <th>5921</th>\n",
       "      <td>985.299988</td>\n",
       "      <td>1</td>\n",
       "    </tr>\n",
       "    <tr>\n",
       "      <th>5922</th>\n",
       "      <td>986.500000</td>\n",
       "      <td>1</td>\n",
       "    </tr>\n",
       "    <tr>\n",
       "      <th>5923</th>\n",
       "      <td>991.500000</td>\n",
       "      <td>2</td>\n",
       "    </tr>\n",
       "  </tbody>\n",
       "</table>\n",
       "<p>5924 rows × 2 columns</p>\n",
       "</div>"
      ],
      "text/plain": [
       "      Nota (Fem.)  Quantidade de observações\n",
       "0        0.000000                        428\n",
       "1      319.500000                          3\n",
       "2      319.600006                          3\n",
       "3      319.700012                          2\n",
       "4      319.799988                          3\n",
       "...           ...                        ...\n",
       "5919   980.400024                          3\n",
       "5920   984.200012                          1\n",
       "5921   985.299988                          1\n",
       "5922   986.500000                          1\n",
       "5923   991.500000                          2\n",
       "\n",
       "[5924 rows x 2 columns]"
      ]
     },
     "metadata": {},
     "output_type": "display_data"
    }
   ],
   "source": [
    "df_nmt_m = pd.DataFrame({\"Nota (Fem.)\": nmt_m_obs.index,\n",
    "                \"Quantidade de observações\": nmt_m_obs.values})\n",
    "display(df_nmt_m)"
   ]
  },
  {
   "cell_type": "raw",
   "id": "82a2637c-65d9-43a1-a8e4-92cc58322b36",
   "metadata": {},
   "source": [
    "○ Nota da prova de Redação"
   ]
  },
  {
   "cell_type": "code",
   "execution_count": 87,
   "id": "d2c30d8e-0e70-49bf-b15c-9b68ccf63a1e",
   "metadata": {},
   "outputs": [],
   "source": [
    "nred = df[[\"NU_NOTA_REDACAO\", \"TP_SEXO\"]]\n",
    "nred = nred.dropna()\n",
    "nred_h = nred[nred['TP_SEXO'] == \"M\"]\n",
    "nred_m = nred[nred['TP_SEXO'] == \"F\"]\n",
    "nred_h = nred_h['NU_NOTA_REDACAO']\n",
    "nred_m = nred_m['NU_NOTA_REDACAO']"
   ]
  },
  {
   "cell_type": "code",
   "execution_count": 88,
   "id": "d40521f0-0a6a-4f8b-8948-aef50764bb9d",
   "metadata": {},
   "outputs": [],
   "source": [
    "nred_m_obs = nred_m.value_counts(ascending = False).sort_index()\n",
    "nred_m = nred_m.to_numpy()\n",
    "nred_m_media = np.average(nred_m)\n",
    "nred_m_dp = np.std(nred_m)"
   ]
  },
  {
   "cell_type": "code",
   "execution_count": 89,
   "id": "b1a1f099-8cab-4792-9aea-b6e50775af92",
   "metadata": {},
   "outputs": [],
   "source": [
    "nred_h_obs = nred_h.value_counts(ascending = False).sort_index()\n",
    "nred_h = nred_h.to_numpy()\n",
    "nred_h_media = np.average(nred_h)\n",
    "nred_h_dp = np.std(nred_h)"
   ]
  },
  {
   "cell_type": "code",
   "execution_count": 90,
   "id": "7574f03d-567a-4580-b3ff-0258aa6092eb",
   "metadata": {},
   "outputs": [
    {
     "data": {
      "text/html": [
       "<div>\n",
       "<style scoped>\n",
       "    .dataframe tbody tr th:only-of-type {\n",
       "        vertical-align: middle;\n",
       "    }\n",
       "\n",
       "    .dataframe tbody tr th {\n",
       "        vertical-align: top;\n",
       "    }\n",
       "\n",
       "    .dataframe thead th {\n",
       "        text-align: right;\n",
       "    }\n",
       "</style>\n",
       "<table border=\"1\" class=\"dataframe\">\n",
       "  <thead>\n",
       "    <tr style=\"text-align: right;\">\n",
       "      <th></th>\n",
       "      <th>Média</th>\n",
       "      <th>Desvio padrão</th>\n",
       "    </tr>\n",
       "  </thead>\n",
       "  <tbody>\n",
       "    <tr>\n",
       "      <th>Feminino</th>\n",
       "      <td>559.519348</td>\n",
       "      <td>150.146851</td>\n",
       "    </tr>\n",
       "    <tr>\n",
       "      <th>Masculino</th>\n",
       "      <td>531.956055</td>\n",
       "      <td>155.581116</td>\n",
       "    </tr>\n",
       "  </tbody>\n",
       "</table>\n",
       "</div>"
      ],
      "text/plain": [
       "                Média  Desvio padrão\n",
       "Feminino   559.519348     150.146851\n",
       "Masculino  531.956055     155.581116"
      ]
     },
     "metadata": {},
     "output_type": "display_data"
    }
   ],
   "source": [
    "df_nred = pd.DataFrame({\"Média\": [nred_m_media, nred_h_media],\n",
    "                \"Desvio padrão\": [nred_m_dp, nred_h_dp]})\n",
    "df_nred.index = [\"Feminino\", \"Masculino\"]\n",
    "display(df_nred)"
   ]
  },
  {
   "cell_type": "code",
   "execution_count": 91,
   "id": "fe79cdaa-f663-42ff-be74-dd6a05f1a6fc",
   "metadata": {},
   "outputs": [
    {
     "data": {
      "text/html": [
       "<div>\n",
       "<style scoped>\n",
       "    .dataframe tbody tr th:only-of-type {\n",
       "        vertical-align: middle;\n",
       "    }\n",
       "\n",
       "    .dataframe tbody tr th {\n",
       "        vertical-align: top;\n",
       "    }\n",
       "\n",
       "    .dataframe thead th {\n",
       "        text-align: right;\n",
       "    }\n",
       "</style>\n",
       "<table border=\"1\" class=\"dataframe\">\n",
       "  <thead>\n",
       "    <tr style=\"text-align: right;\">\n",
       "      <th></th>\n",
       "      <th>Nota (Masc.)</th>\n",
       "      <th>Quantidade de observações</th>\n",
       "    </tr>\n",
       "  </thead>\n",
       "  <tbody>\n",
       "    <tr>\n",
       "      <th>0</th>\n",
       "      <td>0.0</td>\n",
       "      <td>12777</td>\n",
       "    </tr>\n",
       "    <tr>\n",
       "      <th>1</th>\n",
       "      <td>40.0</td>\n",
       "      <td>31</td>\n",
       "    </tr>\n",
       "    <tr>\n",
       "      <th>2</th>\n",
       "      <td>60.0</td>\n",
       "      <td>25</td>\n",
       "    </tr>\n",
       "    <tr>\n",
       "      <th>3</th>\n",
       "      <td>67.0</td>\n",
       "      <td>1</td>\n",
       "    </tr>\n",
       "    <tr>\n",
       "      <th>4</th>\n",
       "      <td>80.0</td>\n",
       "      <td>80</td>\n",
       "    </tr>\n",
       "    <tr>\n",
       "      <th>...</th>\n",
       "      <td>...</td>\n",
       "      <td>...</td>\n",
       "    </tr>\n",
       "    <tr>\n",
       "      <th>109</th>\n",
       "      <td>940.0</td>\n",
       "      <td>1707</td>\n",
       "    </tr>\n",
       "    <tr>\n",
       "      <th>110</th>\n",
       "      <td>950.0</td>\n",
       "      <td>5</td>\n",
       "    </tr>\n",
       "    <tr>\n",
       "      <th>111</th>\n",
       "      <td>960.0</td>\n",
       "      <td>1385</td>\n",
       "    </tr>\n",
       "    <tr>\n",
       "      <th>112</th>\n",
       "      <td>980.0</td>\n",
       "      <td>339</td>\n",
       "    </tr>\n",
       "    <tr>\n",
       "      <th>113</th>\n",
       "      <td>1000.0</td>\n",
       "      <td>13</td>\n",
       "    </tr>\n",
       "  </tbody>\n",
       "</table>\n",
       "<p>114 rows × 2 columns</p>\n",
       "</div>"
      ],
      "text/plain": [
       "     Nota (Masc.)  Quantidade de observações\n",
       "0             0.0                      12777\n",
       "1            40.0                         31\n",
       "2            60.0                         25\n",
       "3            67.0                          1\n",
       "4            80.0                         80\n",
       "..            ...                        ...\n",
       "109         940.0                       1707\n",
       "110         950.0                          5\n",
       "111         960.0                       1385\n",
       "112         980.0                        339\n",
       "113        1000.0                         13\n",
       "\n",
       "[114 rows x 2 columns]"
      ]
     },
     "metadata": {},
     "output_type": "display_data"
    }
   ],
   "source": [
    "df_nred_h = pd.DataFrame({\"Nota (Masc.)\": nred_h_obs.index,\n",
    "                \"Quantidade de observações\": nred_h_obs.values})\n",
    "display(df_nred_h)"
   ]
  },
  {
   "cell_type": "code",
   "execution_count": 92,
   "id": "a5175fbd-2c70-4d58-9cf3-a6de6dcd5ea4",
   "metadata": {},
   "outputs": [
    {
     "data": {
      "text/html": [
       "<div>\n",
       "<style scoped>\n",
       "    .dataframe tbody tr th:only-of-type {\n",
       "        vertical-align: middle;\n",
       "    }\n",
       "\n",
       "    .dataframe tbody tr th {\n",
       "        vertical-align: top;\n",
       "    }\n",
       "\n",
       "    .dataframe thead th {\n",
       "        text-align: right;\n",
       "    }\n",
       "</style>\n",
       "<table border=\"1\" class=\"dataframe\">\n",
       "  <thead>\n",
       "    <tr style=\"text-align: right;\">\n",
       "      <th></th>\n",
       "      <th>Nota (Fem.)</th>\n",
       "      <th>Quantidade de observações</th>\n",
       "    </tr>\n",
       "  </thead>\n",
       "  <tbody>\n",
       "    <tr>\n",
       "      <th>0</th>\n",
       "      <td>0.0</td>\n",
       "      <td>11504</td>\n",
       "    </tr>\n",
       "    <tr>\n",
       "      <th>1</th>\n",
       "      <td>40.0</td>\n",
       "      <td>18</td>\n",
       "    </tr>\n",
       "    <tr>\n",
       "      <th>2</th>\n",
       "      <td>60.0</td>\n",
       "      <td>26</td>\n",
       "    </tr>\n",
       "    <tr>\n",
       "      <th>3</th>\n",
       "      <td>80.0</td>\n",
       "      <td>63</td>\n",
       "    </tr>\n",
       "    <tr>\n",
       "      <th>4</th>\n",
       "      <td>100.0</td>\n",
       "      <td>46</td>\n",
       "    </tr>\n",
       "    <tr>\n",
       "      <th>...</th>\n",
       "      <td>...</td>\n",
       "      <td>...</td>\n",
       "    </tr>\n",
       "    <tr>\n",
       "      <th>114</th>\n",
       "      <td>950.0</td>\n",
       "      <td>6</td>\n",
       "    </tr>\n",
       "    <tr>\n",
       "      <th>115</th>\n",
       "      <td>960.0</td>\n",
       "      <td>2670</td>\n",
       "    </tr>\n",
       "    <tr>\n",
       "      <th>116</th>\n",
       "      <td>975.0</td>\n",
       "      <td>4</td>\n",
       "    </tr>\n",
       "    <tr>\n",
       "      <th>117</th>\n",
       "      <td>980.0</td>\n",
       "      <td>747</td>\n",
       "    </tr>\n",
       "    <tr>\n",
       "      <th>118</th>\n",
       "      <td>1000.0</td>\n",
       "      <td>9</td>\n",
       "    </tr>\n",
       "  </tbody>\n",
       "</table>\n",
       "<p>119 rows × 2 columns</p>\n",
       "</div>"
      ],
      "text/plain": [
       "     Nota (Fem.)  Quantidade de observações\n",
       "0            0.0                      11504\n",
       "1           40.0                         18\n",
       "2           60.0                         26\n",
       "3           80.0                         63\n",
       "4          100.0                         46\n",
       "..           ...                        ...\n",
       "114        950.0                          6\n",
       "115        960.0                       2670\n",
       "116        975.0                          4\n",
       "117        980.0                        747\n",
       "118       1000.0                          9\n",
       "\n",
       "[119 rows x 2 columns]"
      ]
     },
     "metadata": {},
     "output_type": "display_data"
    }
   ],
   "source": [
    "df_nred_m = pd.DataFrame({\"Nota (Fem.)\": nred_m_obs.index,\n",
    "                \"Quantidade de observações\": nred_m_obs.values})\n",
    "display(df_nred_m)"
   ]
  },
  {
   "cell_type": "raw",
   "id": "2e4f7925-b659-497a-9288-668631ffee37",
   "metadata": {},
   "source": [
    "● Gráfico de distribuição das notas por gênero (density plots)\n",
    "○ Nota da prova de redação"
   ]
  },
  {
   "cell_type": "code",
   "execution_count": 93,
   "id": "75076a87-711b-4c27-8fa0-e6c2198d6f14",
   "metadata": {},
   "outputs": [
    {
     "data": {
      "text/plain": [
       "[Text(0.5, 0, 'Nota Redação (Masc.)'), Text(0, 0.5, 'Densidade')]"
      ]
     },
     "execution_count": 93,
     "metadata": {},
     "output_type": "execute_result"
    },
    {
     "data": {
      "image/png": "[encoded data removed]",
      "text/plain": [
       "<Figure size 640x480 with 1 Axes>"
      ]
     },
     "metadata": {},
     "output_type": "display_data"
    }
   ],
   "source": [
    "ax = sns.kdeplot(data= nred_h)\n",
    "ax.set(xlabel='Nota Redação (Masc.)', ylabel='Densidade')"
   ]
  },
  {
   "cell_type": "code",
   "execution_count": 94,
   "id": "d3f5339c-fc57-42ea-9f87-17b9cbe292a3",
   "metadata": {},
   "outputs": [
    {
     "data": {
      "text/plain": [
       "[Text(0.5, 0, 'Nota Redação (Fem.)'), Text(0, 0.5, 'Densidade')]"
      ]
     },
     "execution_count": 94,
     "metadata": {},
     "output_type": "execute_result"
    },
    {
     "data": {
      "image/png": "[encoded data removed]",
      "text/plain": [
       "<Figure size 640x480 with 1 Axes>"
      ]
     },
     "metadata": {},
     "output_type": "display_data"
    }
   ],
   "source": [
    "ax = sns.kdeplot(data= nred_m)\n",
    "ax.set(xlabel='Nota Redação (Fem.)', ylabel='Densidade')"
   ]
  },
  {
   "cell_type": "raw",
   "id": "b3120e7c-8f25-4466-87b0-acfccd70d733",
   "metadata": {},
   "source": [
    "○ Nota da prova de Ciências Humanas"
   ]
  },
  {
   "cell_type": "code",
   "execution_count": 95,
   "id": "81ca8995-8f52-47bb-a921-4db9f6cb6484",
   "metadata": {},
   "outputs": [
    {
     "data": {
      "text/plain": [
       "[Text(0.5, 0, 'Nota Ciências Humanas (Masc.)'), Text(0, 0.5, 'Densidade')]"
      ]
     },
     "execution_count": 95,
     "metadata": {},
     "output_type": "execute_result"
    },
    {
     "data": {
      "image/png": "[encoded data removed]",
      "text/plain": [
       "<Figure size 640x480 with 1 Axes>"
      ]
     },
     "metadata": {},
     "output_type": "display_data"
    }
   ],
   "source": [
    "ax = sns.kdeplot(data= nch_h)\n",
    "ax.set(xlabel='Nota Ciências Humanas (Masc.)', ylabel='Densidade')"
   ]
  },
  {
   "cell_type": "code",
   "execution_count": 96,
   "id": "bca2a349-3524-4c21-9764-33dd44b0e59b",
   "metadata": {},
   "outputs": [
    {
     "data": {
      "text/plain": [
       "[Text(0.5, 0, 'Nota Ciências Humanas (Fem.)'), Text(0, 0.5, 'Densidade')]"
      ]
     },
     "execution_count": 96,
     "metadata": {},
     "output_type": "execute_result"
    },
    {
     "data": {
      "image/png": "[encoded data removed]",
      "text/plain": [
       "<Figure size 640x480 with 1 Axes>"
      ]
     },
     "metadata": {},
     "output_type": "display_data"
    }
   ],
   "source": [
    "ax = sns.kdeplot(data= nch_m)\n",
    "ax.set(xlabel='Nota Ciências Humanas (Fem.)', ylabel='Densidade')"
   ]
  },
  {
   "cell_type": "raw",
   "id": "4f76b65e-3b4b-4c8a-9572-6da018c7bd4e",
   "metadata": {},
   "source": [
    "○ Nota da prova de Ciências da Natureza"
   ]
  },
  {
   "cell_type": "code",
   "execution_count": 97,
   "id": "43e621ee-c19d-46f2-8555-5fbebe021109",
   "metadata": {},
   "outputs": [
    {
     "data": {
      "text/plain": [
       "[Text(0.5, 0, 'Nota Ciências da Natureza (Masc.)'), Text(0, 0.5, 'Densidade')]"
      ]
     },
     "execution_count": 97,
     "metadata": {},
     "output_type": "execute_result"
    },
    {
     "data": {
      "image/png": "[encoded data removed]",
      "text/plain": [
       "<Figure size 640x480 with 1 Axes>"
      ]
     },
     "metadata": {},
     "output_type": "display_data"
    }
   ],
   "source": [
    "ax = sns.kdeplot(data= ncn_h)\n",
    "ax.set(xlabel='Nota Ciências da Natureza (Masc.)', ylabel='Densidade')"
   ]
  },
  {
   "cell_type": "code",
   "execution_count": 98,
   "id": "71fb903f-1a3d-4a7a-bcd0-1661d4a7eb34",
   "metadata": {},
   "outputs": [
    {
     "data": {
      "text/plain": [
       "[Text(0.5, 0, 'Nota Ciências da Natureza (Fem.)'), Text(0, 0.5, 'Densidade')]"
      ]
     },
     "execution_count": 98,
     "metadata": {},
     "output_type": "execute_result"
    },
    {
     "data": {
      "image/png": "[encoded data removed]",
      "text/plain": [
       "<Figure size 640x480 with 1 Axes>"
      ]
     },
     "metadata": {},
     "output_type": "display_data"
    }
   ],
   "source": [
    "ax = sns.kdeplot(data= ncn_m)\n",
    "ax.set(xlabel='Nota Ciências da Natureza (Fem.)', ylabel='Densidade')"
   ]
  },
  {
   "cell_type": "raw",
   "id": "a0f16caa-8843-4289-89dc-91efa73e0dd0",
   "metadata": {},
   "source": [
    "○ Nota da prova de Linguagens e Códigos"
   ]
  },
  {
   "cell_type": "code",
   "execution_count": 99,
   "id": "3e5352b3-2823-442d-9971-8e9860c237ea",
   "metadata": {},
   "outputs": [
    {
     "data": {
      "text/plain": [
       "[Text(0.5, 0, 'Nota Linguagens e Códigos (Masc.)'), Text(0, 0.5, 'Densidade')]"
      ]
     },
     "execution_count": 99,
     "metadata": {},
     "output_type": "execute_result"
    },
    {
     "data": {
      "image/png": "[encoded data removed]",
      "text/plain": [
       "<Figure size 640x480 with 1 Axes>"
      ]
     },
     "metadata": {},
     "output_type": "display_data"
    }
   ],
   "source": [
    "ax = sns.kdeplot(data= nlc_h)\n",
    "ax.set(xlabel='Nota Linguagens e Códigos (Masc.)', ylabel='Densidade')"
   ]
  },
  {
   "cell_type": "code",
   "execution_count": 100,
   "id": "e83c5dc0-ffe1-40dc-84ee-22d4dbcf8478",
   "metadata": {},
   "outputs": [
    {
     "data": {
      "text/plain": [
       "[Text(0.5, 0, 'Nota Linguagens e Códigos (Fem.)'), Text(0, 0.5, 'Densidade')]"
      ]
     },
     "execution_count": 100,
     "metadata": {},
     "output_type": "execute_result"
    },
    {
     "data": {
      "image/png": "[encoded data removed]",
      "text/plain": [
       "<Figure size 640x480 with 1 Axes>"
      ]
     },
     "metadata": {},
     "output_type": "display_data"
    }
   ],
   "source": [
    "ax = sns.kdeplot(data= nlc_m)\n",
    "ax.set(xlabel='Nota Linguagens e Códigos (Fem.)', ylabel='Densidade')"
   ]
  },
  {
   "cell_type": "raw",
   "id": "4f00c870-35eb-4755-8600-33ebf32be5df",
   "metadata": {},
   "source": [
    "○ Nota da prova de Matemática"
   ]
  },
  {
   "cell_type": "code",
   "execution_count": 101,
   "id": "689572f5-6614-498a-970e-ae482c0ef6cc",
   "metadata": {},
   "outputs": [
    {
     "data": {
      "text/plain": [
       "[Text(0.5, 0, 'Nota Matemática (Masc.)'), Text(0, 0.5, 'Densidade')]"
      ]
     },
     "execution_count": 101,
     "metadata": {},
     "output_type": "execute_result"
    },
    {
     "data": {
      "image/png": "[encoded data removed]",
      "text/plain": [
       "<Figure size 640x480 with 1 Axes>"
      ]
     },
     "metadata": {},
     "output_type": "display_data"
    }
   ],
   "source": [
    "ax = sns.kdeplot(data= nmt_h)\n",
    "ax.set(xlabel='Nota Matemática (Masc.)', ylabel='Densidade')"
   ]
  },
  {
   "cell_type": "code",
   "execution_count": 102,
   "id": "50fed09f-b36f-4f02-bd1c-ee885c0236e2",
   "metadata": {},
   "outputs": [
    {
     "data": {
      "text/plain": [
       "[Text(0.5, 0, 'Nota Matemática (Fem.)'), Text(0, 0.5, 'Densidade')]"
      ]
     },
     "execution_count": 102,
     "metadata": {},
     "output_type": "execute_result"
    },
    {
     "data": {
      "image/png": "[encoded data removed]",
      "text/plain": [
       "<Figure size 640x480 with 1 Axes>"
      ]
     },
     "metadata": {},
     "output_type": "display_data"
    }
   ],
   "source": [
    "ax = sns.kdeplot(data= nmt_m)\n",
    "ax.set(xlabel='Nota Matemática (Fem.)', ylabel='Densidade')"
   ]
  }
 ],
 "metadata": {
  "kernelspec": {
   "display_name": "Python 3 (ipykernel)",
   "language": "python",
   "name": "python3"
  },
  "language_info": {
   "codemirror_mode": {
    "name": "ipython",
    "version": 3
   },
   "file_extension": ".py",
   "mimetype": "text/x-python",
   "name": "python",
   "nbconvert_exporter": "python",
   "pygments_lexer": "ipython3",
   "version": "3.11.4"
  }
 },
 "nbformat": 4,
 "nbformat_minor": 5
}
